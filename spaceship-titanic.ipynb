{
 "cells": [
  {
   "cell_type": "code",
   "execution_count": 1,
   "id": "7938e7f8",
   "metadata": {
    "_cell_guid": "b1076dfc-b9ad-4769-8c92-a6c4dae69d19",
    "_kg_hide-input": true,
    "_uuid": "8f2839f25d086af736a60e9eeb907d3b93b6e0e5",
    "execution": {
     "iopub.execute_input": "2023-10-13T04:16:30.365681Z",
     "iopub.status.busy": "2023-10-13T04:16:30.365308Z",
     "iopub.status.idle": "2023-10-13T04:16:31.314981Z",
     "shell.execute_reply": "2023-10-13T04:16:31.314192Z"
    },
    "papermill": {
     "duration": 0.964978,
     "end_time": "2023-10-13T04:16:31.318479",
     "exception": false,
     "start_time": "2023-10-13T04:16:30.353501",
     "status": "completed"
    },
    "tags": []
   },
   "outputs": [
    {
     "name": "stdout",
     "output_type": "stream",
     "text": [
      "/kaggle/input/spaceship-titanic/sample_submission.csv\n",
      "/kaggle/input/spaceship-titanic/train.csv\n",
      "/kaggle/input/spaceship-titanic/test.csv\n"
     ]
    }
   ],
   "source": [
    "# This Python 3 environment comes with many helpful analytics libraries installed\n",
    "# It is defined by the kaggle/python Docker image: https://github.com/kaggle/docker-python\n",
    "# For example, here's several helpful packages to load\n",
    "\n",
    "import numpy as np # linear algebra\n",
    "import pandas as pd # data processing, CSV file I/O (e.g. pd.read_csv)\n",
    "\n",
    "# Input data files are available in the read-only \"../input/\" directory\n",
    "# For example, running this (by clicking run or pressing Shift+Enter) will list all files under the input directory\n",
    "\n",
    "import os\n",
    "for dirname, _, filenames in os.walk('/kaggle/input'):\n",
    "    for filename in filenames:\n",
    "        print(os.path.join(dirname, filename))\n",
    "\n",
    "# You can write up to 20GB to the current directory (/kaggle/working/) that gets preserved as output when you create a version using \"Save & Run All\" \n",
    "# You can also write temporary files to /kaggle/temp/, but they won't be saved outside of the current session"
   ]
  },
  {
   "cell_type": "code",
   "execution_count": 2,
   "id": "7703bd13",
   "metadata": {
    "execution": {
     "iopub.execute_input": "2023-10-13T04:16:31.344085Z",
     "iopub.status.busy": "2023-10-13T04:16:31.343201Z",
     "iopub.status.idle": "2023-10-13T04:16:33.320246Z",
     "shell.execute_reply": "2023-10-13T04:16:33.319447Z"
    },
    "papermill": {
     "duration": 1.992648,
     "end_time": "2023-10-13T04:16:33.322764",
     "exception": false,
     "start_time": "2023-10-13T04:16:31.330116",
     "status": "completed"
    },
    "tags": []
   },
   "outputs": [],
   "source": [
    "import seaborn as sns\n",
    "import matplotlib.pyplot as plt \n",
    "pd.set_option('display.max_columns',None)"
   ]
  },
  {
   "cell_type": "code",
   "execution_count": 3,
   "id": "5dc083b9",
   "metadata": {
    "execution": {
     "iopub.execute_input": "2023-10-13T04:16:33.343828Z",
     "iopub.status.busy": "2023-10-13T04:16:33.343260Z",
     "iopub.status.idle": "2023-10-13T04:16:33.438830Z",
     "shell.execute_reply": "2023-10-13T04:16:33.437571Z"
    },
    "papermill": {
     "duration": 0.10902,
     "end_time": "2023-10-13T04:16:33.441344",
     "exception": false,
     "start_time": "2023-10-13T04:16:33.332324",
     "status": "completed"
    },
    "tags": []
   },
   "outputs": [],
   "source": [
    "df_train = pd.read_csv('/kaggle/input/spaceship-titanic/train.csv')\n",
    "df_test  = pd.read_csv('/kaggle/input/spaceship-titanic/test.csv')\n",
    "df_sample  = pd.read_csv('/kaggle/input/spaceship-titanic/sample_submission.csv')"
   ]
  },
  {
   "cell_type": "code",
   "execution_count": 4,
   "id": "c9c79bc4",
   "metadata": {
    "execution": {
     "iopub.execute_input": "2023-10-13T04:16:33.463798Z",
     "iopub.status.busy": "2023-10-13T04:16:33.463168Z",
     "iopub.status.idle": "2023-10-13T04:16:33.499414Z",
     "shell.execute_reply": "2023-10-13T04:16:33.498170Z"
    },
    "papermill": {
     "duration": 0.049618,
     "end_time": "2023-10-13T04:16:33.501727",
     "exception": false,
     "start_time": "2023-10-13T04:16:33.452109",
     "status": "completed"
    },
    "tags": []
   },
   "outputs": [
    {
     "data": {
      "text/html": [
       "<div>\n",
       "<style scoped>\n",
       "    .dataframe tbody tr th:only-of-type {\n",
       "        vertical-align: middle;\n",
       "    }\n",
       "\n",
       "    .dataframe tbody tr th {\n",
       "        vertical-align: top;\n",
       "    }\n",
       "\n",
       "    .dataframe thead th {\n",
       "        text-align: right;\n",
       "    }\n",
       "</style>\n",
       "<table border=\"1\" class=\"dataframe\">\n",
       "  <thead>\n",
       "    <tr style=\"text-align: right;\">\n",
       "      <th></th>\n",
       "      <th>PassengerId</th>\n",
       "      <th>HomePlanet</th>\n",
       "      <th>CryoSleep</th>\n",
       "      <th>Cabin</th>\n",
       "      <th>Destination</th>\n",
       "      <th>Age</th>\n",
       "      <th>VIP</th>\n",
       "      <th>RoomService</th>\n",
       "      <th>FoodCourt</th>\n",
       "      <th>ShoppingMall</th>\n",
       "      <th>Spa</th>\n",
       "      <th>VRDeck</th>\n",
       "      <th>Name</th>\n",
       "      <th>Transported</th>\n",
       "    </tr>\n",
       "  </thead>\n",
       "  <tbody>\n",
       "    <tr>\n",
       "      <th>0</th>\n",
       "      <td>0001_01</td>\n",
       "      <td>Europa</td>\n",
       "      <td>False</td>\n",
       "      <td>B/0/P</td>\n",
       "      <td>TRAPPIST-1e</td>\n",
       "      <td>39.0</td>\n",
       "      <td>False</td>\n",
       "      <td>0.0</td>\n",
       "      <td>0.0</td>\n",
       "      <td>0.0</td>\n",
       "      <td>0.0</td>\n",
       "      <td>0.0</td>\n",
       "      <td>Maham Ofracculy</td>\n",
       "      <td>False</td>\n",
       "    </tr>\n",
       "    <tr>\n",
       "      <th>1</th>\n",
       "      <td>0002_01</td>\n",
       "      <td>Earth</td>\n",
       "      <td>False</td>\n",
       "      <td>F/0/S</td>\n",
       "      <td>TRAPPIST-1e</td>\n",
       "      <td>24.0</td>\n",
       "      <td>False</td>\n",
       "      <td>109.0</td>\n",
       "      <td>9.0</td>\n",
       "      <td>25.0</td>\n",
       "      <td>549.0</td>\n",
       "      <td>44.0</td>\n",
       "      <td>Juanna Vines</td>\n",
       "      <td>True</td>\n",
       "    </tr>\n",
       "    <tr>\n",
       "      <th>2</th>\n",
       "      <td>0003_01</td>\n",
       "      <td>Europa</td>\n",
       "      <td>False</td>\n",
       "      <td>A/0/S</td>\n",
       "      <td>TRAPPIST-1e</td>\n",
       "      <td>58.0</td>\n",
       "      <td>True</td>\n",
       "      <td>43.0</td>\n",
       "      <td>3576.0</td>\n",
       "      <td>0.0</td>\n",
       "      <td>6715.0</td>\n",
       "      <td>49.0</td>\n",
       "      <td>Altark Susent</td>\n",
       "      <td>False</td>\n",
       "    </tr>\n",
       "    <tr>\n",
       "      <th>3</th>\n",
       "      <td>0003_02</td>\n",
       "      <td>Europa</td>\n",
       "      <td>False</td>\n",
       "      <td>A/0/S</td>\n",
       "      <td>TRAPPIST-1e</td>\n",
       "      <td>33.0</td>\n",
       "      <td>False</td>\n",
       "      <td>0.0</td>\n",
       "      <td>1283.0</td>\n",
       "      <td>371.0</td>\n",
       "      <td>3329.0</td>\n",
       "      <td>193.0</td>\n",
       "      <td>Solam Susent</td>\n",
       "      <td>False</td>\n",
       "    </tr>\n",
       "    <tr>\n",
       "      <th>4</th>\n",
       "      <td>0004_01</td>\n",
       "      <td>Earth</td>\n",
       "      <td>False</td>\n",
       "      <td>F/1/S</td>\n",
       "      <td>TRAPPIST-1e</td>\n",
       "      <td>16.0</td>\n",
       "      <td>False</td>\n",
       "      <td>303.0</td>\n",
       "      <td>70.0</td>\n",
       "      <td>151.0</td>\n",
       "      <td>565.0</td>\n",
       "      <td>2.0</td>\n",
       "      <td>Willy Santantines</td>\n",
       "      <td>True</td>\n",
       "    </tr>\n",
       "  </tbody>\n",
       "</table>\n",
       "</div>"
      ],
      "text/plain": [
       "  PassengerId HomePlanet CryoSleep  Cabin  Destination   Age    VIP  \\\n",
       "0     0001_01     Europa     False  B/0/P  TRAPPIST-1e  39.0  False   \n",
       "1     0002_01      Earth     False  F/0/S  TRAPPIST-1e  24.0  False   \n",
       "2     0003_01     Europa     False  A/0/S  TRAPPIST-1e  58.0   True   \n",
       "3     0003_02     Europa     False  A/0/S  TRAPPIST-1e  33.0  False   \n",
       "4     0004_01      Earth     False  F/1/S  TRAPPIST-1e  16.0  False   \n",
       "\n",
       "   RoomService  FoodCourt  ShoppingMall     Spa  VRDeck               Name  \\\n",
       "0          0.0        0.0           0.0     0.0     0.0    Maham Ofracculy   \n",
       "1        109.0        9.0          25.0   549.0    44.0       Juanna Vines   \n",
       "2         43.0     3576.0           0.0  6715.0    49.0      Altark Susent   \n",
       "3          0.0     1283.0         371.0  3329.0   193.0       Solam Susent   \n",
       "4        303.0       70.0         151.0   565.0     2.0  Willy Santantines   \n",
       "\n",
       "   Transported  \n",
       "0        False  \n",
       "1         True  \n",
       "2        False  \n",
       "3        False  \n",
       "4         True  "
      ]
     },
     "execution_count": 4,
     "metadata": {},
     "output_type": "execute_result"
    }
   ],
   "source": [
    "df_train.head()"
   ]
  },
  {
   "cell_type": "code",
   "execution_count": 5,
   "id": "ded906a8",
   "metadata": {
    "execution": {
     "iopub.execute_input": "2023-10-13T04:16:33.523349Z",
     "iopub.status.busy": "2023-10-13T04:16:33.522956Z",
     "iopub.status.idle": "2023-10-13T04:16:33.558521Z",
     "shell.execute_reply": "2023-10-13T04:16:33.557295Z"
    },
    "papermill": {
     "duration": 0.049469,
     "end_time": "2023-10-13T04:16:33.561096",
     "exception": false,
     "start_time": "2023-10-13T04:16:33.511627",
     "status": "completed"
    },
    "tags": []
   },
   "outputs": [
    {
     "name": "stdout",
     "output_type": "stream",
     "text": [
      "<class 'pandas.core.frame.DataFrame'>\n",
      "RangeIndex: 8693 entries, 0 to 8692\n",
      "Data columns (total 14 columns):\n",
      " #   Column        Non-Null Count  Dtype  \n",
      "---  ------        --------------  -----  \n",
      " 0   PassengerId   8693 non-null   object \n",
      " 1   HomePlanet    8492 non-null   object \n",
      " 2   CryoSleep     8476 non-null   object \n",
      " 3   Cabin         8494 non-null   object \n",
      " 4   Destination   8511 non-null   object \n",
      " 5   Age           8514 non-null   float64\n",
      " 6   VIP           8490 non-null   object \n",
      " 7   RoomService   8512 non-null   float64\n",
      " 8   FoodCourt     8510 non-null   float64\n",
      " 9   ShoppingMall  8485 non-null   float64\n",
      " 10  Spa           8510 non-null   float64\n",
      " 11  VRDeck        8505 non-null   float64\n",
      " 12  Name          8493 non-null   object \n",
      " 13  Transported   8693 non-null   bool   \n",
      "dtypes: bool(1), float64(6), object(7)\n",
      "memory usage: 891.5+ KB\n"
     ]
    }
   ],
   "source": [
    "df_train.info()"
   ]
  },
  {
   "cell_type": "code",
   "execution_count": 6,
   "id": "a5cf3867",
   "metadata": {
    "execution": {
     "iopub.execute_input": "2023-10-13T04:16:33.583066Z",
     "iopub.status.busy": "2023-10-13T04:16:33.582709Z",
     "iopub.status.idle": "2023-10-13T04:16:33.613786Z",
     "shell.execute_reply": "2023-10-13T04:16:33.612562Z"
    },
    "papermill": {
     "duration": 0.044891,
     "end_time": "2023-10-13T04:16:33.616055",
     "exception": false,
     "start_time": "2023-10-13T04:16:33.571164",
     "status": "completed"
    },
    "tags": []
   },
   "outputs": [
    {
     "data": {
      "text/html": [
       "<div>\n",
       "<style scoped>\n",
       "    .dataframe tbody tr th:only-of-type {\n",
       "        vertical-align: middle;\n",
       "    }\n",
       "\n",
       "    .dataframe tbody tr th {\n",
       "        vertical-align: top;\n",
       "    }\n",
       "\n",
       "    .dataframe thead th {\n",
       "        text-align: right;\n",
       "    }\n",
       "</style>\n",
       "<table border=\"1\" class=\"dataframe\">\n",
       "  <thead>\n",
       "    <tr style=\"text-align: right;\">\n",
       "      <th></th>\n",
       "      <th>Age</th>\n",
       "      <th>RoomService</th>\n",
       "      <th>FoodCourt</th>\n",
       "      <th>ShoppingMall</th>\n",
       "      <th>Spa</th>\n",
       "      <th>VRDeck</th>\n",
       "    </tr>\n",
       "  </thead>\n",
       "  <tbody>\n",
       "    <tr>\n",
       "      <th>count</th>\n",
       "      <td>8514.000000</td>\n",
       "      <td>8512.000000</td>\n",
       "      <td>8510.000000</td>\n",
       "      <td>8485.000000</td>\n",
       "      <td>8510.000000</td>\n",
       "      <td>8505.000000</td>\n",
       "    </tr>\n",
       "    <tr>\n",
       "      <th>mean</th>\n",
       "      <td>28.827930</td>\n",
       "      <td>224.687617</td>\n",
       "      <td>458.077203</td>\n",
       "      <td>173.729169</td>\n",
       "      <td>311.138778</td>\n",
       "      <td>304.854791</td>\n",
       "    </tr>\n",
       "    <tr>\n",
       "      <th>std</th>\n",
       "      <td>14.489021</td>\n",
       "      <td>666.717663</td>\n",
       "      <td>1611.489240</td>\n",
       "      <td>604.696458</td>\n",
       "      <td>1136.705535</td>\n",
       "      <td>1145.717189</td>\n",
       "    </tr>\n",
       "    <tr>\n",
       "      <th>min</th>\n",
       "      <td>0.000000</td>\n",
       "      <td>0.000000</td>\n",
       "      <td>0.000000</td>\n",
       "      <td>0.000000</td>\n",
       "      <td>0.000000</td>\n",
       "      <td>0.000000</td>\n",
       "    </tr>\n",
       "    <tr>\n",
       "      <th>25%</th>\n",
       "      <td>19.000000</td>\n",
       "      <td>0.000000</td>\n",
       "      <td>0.000000</td>\n",
       "      <td>0.000000</td>\n",
       "      <td>0.000000</td>\n",
       "      <td>0.000000</td>\n",
       "    </tr>\n",
       "    <tr>\n",
       "      <th>50%</th>\n",
       "      <td>27.000000</td>\n",
       "      <td>0.000000</td>\n",
       "      <td>0.000000</td>\n",
       "      <td>0.000000</td>\n",
       "      <td>0.000000</td>\n",
       "      <td>0.000000</td>\n",
       "    </tr>\n",
       "    <tr>\n",
       "      <th>75%</th>\n",
       "      <td>38.000000</td>\n",
       "      <td>47.000000</td>\n",
       "      <td>76.000000</td>\n",
       "      <td>27.000000</td>\n",
       "      <td>59.000000</td>\n",
       "      <td>46.000000</td>\n",
       "    </tr>\n",
       "    <tr>\n",
       "      <th>max</th>\n",
       "      <td>79.000000</td>\n",
       "      <td>14327.000000</td>\n",
       "      <td>29813.000000</td>\n",
       "      <td>23492.000000</td>\n",
       "      <td>22408.000000</td>\n",
       "      <td>24133.000000</td>\n",
       "    </tr>\n",
       "  </tbody>\n",
       "</table>\n",
       "</div>"
      ],
      "text/plain": [
       "               Age   RoomService     FoodCourt  ShoppingMall           Spa  \\\n",
       "count  8514.000000   8512.000000   8510.000000   8485.000000   8510.000000   \n",
       "mean     28.827930    224.687617    458.077203    173.729169    311.138778   \n",
       "std      14.489021    666.717663   1611.489240    604.696458   1136.705535   \n",
       "min       0.000000      0.000000      0.000000      0.000000      0.000000   \n",
       "25%      19.000000      0.000000      0.000000      0.000000      0.000000   \n",
       "50%      27.000000      0.000000      0.000000      0.000000      0.000000   \n",
       "75%      38.000000     47.000000     76.000000     27.000000     59.000000   \n",
       "max      79.000000  14327.000000  29813.000000  23492.000000  22408.000000   \n",
       "\n",
       "             VRDeck  \n",
       "count   8505.000000  \n",
       "mean     304.854791  \n",
       "std     1145.717189  \n",
       "min        0.000000  \n",
       "25%        0.000000  \n",
       "50%        0.000000  \n",
       "75%       46.000000  \n",
       "max    24133.000000  "
      ]
     },
     "execution_count": 6,
     "metadata": {},
     "output_type": "execute_result"
    }
   ],
   "source": [
    "df_train.describe()"
   ]
  },
  {
   "cell_type": "code",
   "execution_count": 7,
   "id": "a185e042",
   "metadata": {
    "execution": {
     "iopub.execute_input": "2023-10-13T04:16:33.639519Z",
     "iopub.status.busy": "2023-10-13T04:16:33.638249Z",
     "iopub.status.idle": "2023-10-13T04:16:33.664336Z",
     "shell.execute_reply": "2023-10-13T04:16:33.663501Z"
    },
    "papermill": {
     "duration": 0.039787,
     "end_time": "2023-10-13T04:16:33.666538",
     "exception": false,
     "start_time": "2023-10-13T04:16:33.626751",
     "status": "completed"
    },
    "tags": []
   },
   "outputs": [
    {
     "data": {
      "text/html": [
       "<div>\n",
       "<style scoped>\n",
       "    .dataframe tbody tr th:only-of-type {\n",
       "        vertical-align: middle;\n",
       "    }\n",
       "\n",
       "    .dataframe tbody tr th {\n",
       "        vertical-align: top;\n",
       "    }\n",
       "\n",
       "    .dataframe thead th {\n",
       "        text-align: right;\n",
       "    }\n",
       "</style>\n",
       "<table border=\"1\" class=\"dataframe\">\n",
       "  <thead>\n",
       "    <tr style=\"text-align: right;\">\n",
       "      <th></th>\n",
       "      <th>count</th>\n",
       "      <th>percentage</th>\n",
       "    </tr>\n",
       "  </thead>\n",
       "  <tbody>\n",
       "    <tr>\n",
       "      <th>CryoSleep</th>\n",
       "      <td>217</td>\n",
       "      <td>0.025602</td>\n",
       "    </tr>\n",
       "    <tr>\n",
       "      <th>ShoppingMall</th>\n",
       "      <td>208</td>\n",
       "      <td>0.024514</td>\n",
       "    </tr>\n",
       "    <tr>\n",
       "      <th>VIP</th>\n",
       "      <td>203</td>\n",
       "      <td>0.023910</td>\n",
       "    </tr>\n",
       "    <tr>\n",
       "      <th>HomePlanet</th>\n",
       "      <td>201</td>\n",
       "      <td>0.023669</td>\n",
       "    </tr>\n",
       "    <tr>\n",
       "      <th>Name</th>\n",
       "      <td>200</td>\n",
       "      <td>0.023549</td>\n",
       "    </tr>\n",
       "    <tr>\n",
       "      <th>Cabin</th>\n",
       "      <td>199</td>\n",
       "      <td>0.023428</td>\n",
       "    </tr>\n",
       "    <tr>\n",
       "      <th>VRDeck</th>\n",
       "      <td>188</td>\n",
       "      <td>0.022105</td>\n",
       "    </tr>\n",
       "    <tr>\n",
       "      <th>FoodCourt</th>\n",
       "      <td>183</td>\n",
       "      <td>0.021504</td>\n",
       "    </tr>\n",
       "    <tr>\n",
       "      <th>Spa</th>\n",
       "      <td>183</td>\n",
       "      <td>0.021504</td>\n",
       "    </tr>\n",
       "    <tr>\n",
       "      <th>Destination</th>\n",
       "      <td>182</td>\n",
       "      <td>0.021384</td>\n",
       "    </tr>\n",
       "    <tr>\n",
       "      <th>RoomService</th>\n",
       "      <td>181</td>\n",
       "      <td>0.021264</td>\n",
       "    </tr>\n",
       "    <tr>\n",
       "      <th>Age</th>\n",
       "      <td>179</td>\n",
       "      <td>0.021024</td>\n",
       "    </tr>\n",
       "    <tr>\n",
       "      <th>PassengerId</th>\n",
       "      <td>0</td>\n",
       "      <td>0.000000</td>\n",
       "    </tr>\n",
       "    <tr>\n",
       "      <th>Transported</th>\n",
       "      <td>0</td>\n",
       "      <td>0.000000</td>\n",
       "    </tr>\n",
       "  </tbody>\n",
       "</table>\n",
       "</div>"
      ],
      "text/plain": [
       "              count  percentage\n",
       "CryoSleep       217    0.025602\n",
       "ShoppingMall    208    0.024514\n",
       "VIP             203    0.023910\n",
       "HomePlanet      201    0.023669\n",
       "Name            200    0.023549\n",
       "Cabin           199    0.023428\n",
       "VRDeck          188    0.022105\n",
       "FoodCourt       183    0.021504\n",
       "Spa             183    0.021504\n",
       "Destination     182    0.021384\n",
       "RoomService     181    0.021264\n",
       "Age             179    0.021024\n",
       "PassengerId       0    0.000000\n",
       "Transported       0    0.000000"
      ]
     },
     "execution_count": 7,
     "metadata": {},
     "output_type": "execute_result"
    }
   ],
   "source": [
    "count = df_train.isna().sum().sort_values(ascending = False)\n",
    "percentage = ((df_train.isna().sum())/(df_train.count()))\n",
    "missing_data = pd.concat([count,percentage], axis = 1, keys = ['count','percentage'])\n",
    "missing_data"
   ]
  },
  {
   "cell_type": "code",
   "execution_count": 8,
   "id": "d330f5b3",
   "metadata": {
    "execution": {
     "iopub.execute_input": "2023-10-13T04:16:33.689817Z",
     "iopub.status.busy": "2023-10-13T04:16:33.689197Z",
     "iopub.status.idle": "2023-10-13T04:16:33.696487Z",
     "shell.execute_reply": "2023-10-13T04:16:33.695725Z"
    },
    "papermill": {
     "duration": 0.021728,
     "end_time": "2023-10-13T04:16:33.698726",
     "exception": false,
     "start_time": "2023-10-13T04:16:33.676998",
     "status": "completed"
    },
    "tags": []
   },
   "outputs": [],
   "source": [
    "df_train.set_index('PassengerId',inplace=True)\n",
    "df_test.set_index('PassengerId',inplace=True)"
   ]
  },
  {
   "cell_type": "code",
   "execution_count": 9,
   "id": "41411203",
   "metadata": {
    "execution": {
     "iopub.execute_input": "2023-10-13T04:16:33.721419Z",
     "iopub.status.busy": "2023-10-13T04:16:33.721060Z",
     "iopub.status.idle": "2023-10-13T04:16:33.728445Z",
     "shell.execute_reply": "2023-10-13T04:16:33.727404Z"
    },
    "papermill": {
     "duration": 0.021248,
     "end_time": "2023-10-13T04:16:33.730369",
     "exception": false,
     "start_time": "2023-10-13T04:16:33.709121",
     "status": "completed"
    },
    "tags": []
   },
   "outputs": [
    {
     "data": {
      "text/plain": [
       "VIP\n",
       "False    8291\n",
       "True      199\n",
       "Name: count, dtype: int64"
      ]
     },
     "execution_count": 9,
     "metadata": {},
     "output_type": "execute_result"
    }
   ],
   "source": [
    "df_train['VIP'].value_counts()\n"
   ]
  },
  {
   "cell_type": "code",
   "execution_count": 10,
   "id": "8ab6d78f",
   "metadata": {
    "execution": {
     "iopub.execute_input": "2023-10-13T04:16:33.752765Z",
     "iopub.status.busy": "2023-10-13T04:16:33.752394Z",
     "iopub.status.idle": "2023-10-13T04:16:33.776538Z",
     "shell.execute_reply": "2023-10-13T04:16:33.775563Z"
    },
    "papermill": {
     "duration": 0.038259,
     "end_time": "2023-10-13T04:16:33.778933",
     "exception": false,
     "start_time": "2023-10-13T04:16:33.740674",
     "status": "completed"
    },
    "tags": []
   },
   "outputs": [],
   "source": [
    "df_train['CryoSleep'].fillna(False,inplace=True)\n",
    "df_test['CryoSleep'].fillna(False,inplace=True)\n",
    "\n",
    "df_train['HomePlanet'].fillna('Earth',inplace=True)\n",
    "df_test['HomePlanet'].fillna('Earth',inplace=True)\n",
    "\n",
    "df_train['Cabin'].fillna('T/0/P',inplace=True)\n",
    "df_test['Cabin'].fillna('T/0/P',inplace=True)\n",
    "\n",
    "df_train['Destination'].fillna('TRAPPIST-1e',inplace =True)\n",
    "df_test['Destination'].fillna('TRAPPIST-1e',inplace =True)\n",
    "\n",
    "df_train['Age'].fillna(df_train['Age'].median(),inplace=True)\n",
    "df_test['Age'].fillna(df_test['Age'].median(),inplace=True)\n",
    "\n",
    "df_train['VIP'].fillna(False,inplace=True)\n",
    "df_test['VIP'].fillna(False,inplace=True)\n",
    "\n",
    "df_train[['RoomService', 'FoodCourt', 'ShoppingMall', 'Spa', 'VRDeck']] = df_train[['RoomService', 'FoodCourt', 'ShoppingMall', 'Spa', 'VRDeck']].fillna(0)\n",
    "df_test[['RoomService', 'FoodCourt', 'ShoppingMall', 'Spa', 'VRDeck']] = df_test[['RoomService', 'FoodCourt', 'ShoppingMall', 'Spa', 'VRDeck']].fillna(0)\n"
   ]
  },
  {
   "cell_type": "code",
   "execution_count": 11,
   "id": "8ea0c896",
   "metadata": {
    "execution": {
     "iopub.execute_input": "2023-10-13T04:16:33.801876Z",
     "iopub.status.busy": "2023-10-13T04:16:33.801318Z",
     "iopub.status.idle": "2023-10-13T04:16:33.812526Z",
     "shell.execute_reply": "2023-10-13T04:16:33.811301Z"
    },
    "papermill": {
     "duration": 0.025252,
     "end_time": "2023-10-13T04:16:33.814594",
     "exception": false,
     "start_time": "2023-10-13T04:16:33.789342",
     "status": "completed"
    },
    "tags": []
   },
   "outputs": [
    {
     "data": {
      "text/plain": [
       "HomePlanet        0\n",
       "CryoSleep         0\n",
       "Cabin             0\n",
       "Destination       0\n",
       "Age               0\n",
       "VIP               0\n",
       "RoomService       0\n",
       "FoodCourt         0\n",
       "ShoppingMall      0\n",
       "Spa               0\n",
       "VRDeck            0\n",
       "Name            200\n",
       "Transported       0\n",
       "dtype: int64"
      ]
     },
     "execution_count": 11,
     "metadata": {},
     "output_type": "execute_result"
    }
   ],
   "source": [
    "df_train.isna().sum()"
   ]
  },
  {
   "cell_type": "code",
   "execution_count": 12,
   "id": "aa978d57",
   "metadata": {
    "execution": {
     "iopub.execute_input": "2023-10-13T04:16:33.837356Z",
     "iopub.status.busy": "2023-10-13T04:16:33.836650Z",
     "iopub.status.idle": "2023-10-13T04:16:33.856762Z",
     "shell.execute_reply": "2023-10-13T04:16:33.855317Z"
    },
    "papermill": {
     "duration": 0.033955,
     "end_time": "2023-10-13T04:16:33.859068",
     "exception": false,
     "start_time": "2023-10-13T04:16:33.825113",
     "status": "completed"
    },
    "tags": []
   },
   "outputs": [
    {
     "data": {
      "text/html": [
       "<div>\n",
       "<style scoped>\n",
       "    .dataframe tbody tr th:only-of-type {\n",
       "        vertical-align: middle;\n",
       "    }\n",
       "\n",
       "    .dataframe tbody tr th {\n",
       "        vertical-align: top;\n",
       "    }\n",
       "\n",
       "    .dataframe thead th {\n",
       "        text-align: right;\n",
       "    }\n",
       "</style>\n",
       "<table border=\"1\" class=\"dataframe\">\n",
       "  <thead>\n",
       "    <tr style=\"text-align: right;\">\n",
       "      <th></th>\n",
       "      <th>HomePlanet</th>\n",
       "      <th>CryoSleep</th>\n",
       "      <th>Cabin</th>\n",
       "      <th>Destination</th>\n",
       "      <th>Age</th>\n",
       "      <th>VIP</th>\n",
       "      <th>RoomService</th>\n",
       "      <th>FoodCourt</th>\n",
       "      <th>ShoppingMall</th>\n",
       "      <th>Spa</th>\n",
       "      <th>VRDeck</th>\n",
       "      <th>Name</th>\n",
       "      <th>Transported</th>\n",
       "    </tr>\n",
       "    <tr>\n",
       "      <th>PassengerId</th>\n",
       "      <th></th>\n",
       "      <th></th>\n",
       "      <th></th>\n",
       "      <th></th>\n",
       "      <th></th>\n",
       "      <th></th>\n",
       "      <th></th>\n",
       "      <th></th>\n",
       "      <th></th>\n",
       "      <th></th>\n",
       "      <th></th>\n",
       "      <th></th>\n",
       "      <th></th>\n",
       "    </tr>\n",
       "  </thead>\n",
       "  <tbody>\n",
       "    <tr>\n",
       "      <th>0001_01</th>\n",
       "      <td>Europa</td>\n",
       "      <td>False</td>\n",
       "      <td>B/0/P</td>\n",
       "      <td>TRAPPIST-1e</td>\n",
       "      <td>39.0</td>\n",
       "      <td>False</td>\n",
       "      <td>0.0</td>\n",
       "      <td>0.0</td>\n",
       "      <td>0.0</td>\n",
       "      <td>0.0</td>\n",
       "      <td>0.0</td>\n",
       "      <td>Maham Ofracculy</td>\n",
       "      <td>False</td>\n",
       "    </tr>\n",
       "    <tr>\n",
       "      <th>0002_01</th>\n",
       "      <td>Earth</td>\n",
       "      <td>False</td>\n",
       "      <td>F/0/S</td>\n",
       "      <td>TRAPPIST-1e</td>\n",
       "      <td>24.0</td>\n",
       "      <td>False</td>\n",
       "      <td>109.0</td>\n",
       "      <td>9.0</td>\n",
       "      <td>25.0</td>\n",
       "      <td>549.0</td>\n",
       "      <td>44.0</td>\n",
       "      <td>Juanna Vines</td>\n",
       "      <td>True</td>\n",
       "    </tr>\n",
       "    <tr>\n",
       "      <th>0003_01</th>\n",
       "      <td>Europa</td>\n",
       "      <td>False</td>\n",
       "      <td>A/0/S</td>\n",
       "      <td>TRAPPIST-1e</td>\n",
       "      <td>58.0</td>\n",
       "      <td>True</td>\n",
       "      <td>43.0</td>\n",
       "      <td>3576.0</td>\n",
       "      <td>0.0</td>\n",
       "      <td>6715.0</td>\n",
       "      <td>49.0</td>\n",
       "      <td>Altark Susent</td>\n",
       "      <td>False</td>\n",
       "    </tr>\n",
       "    <tr>\n",
       "      <th>0003_02</th>\n",
       "      <td>Europa</td>\n",
       "      <td>False</td>\n",
       "      <td>A/0/S</td>\n",
       "      <td>TRAPPIST-1e</td>\n",
       "      <td>33.0</td>\n",
       "      <td>False</td>\n",
       "      <td>0.0</td>\n",
       "      <td>1283.0</td>\n",
       "      <td>371.0</td>\n",
       "      <td>3329.0</td>\n",
       "      <td>193.0</td>\n",
       "      <td>Solam Susent</td>\n",
       "      <td>False</td>\n",
       "    </tr>\n",
       "    <tr>\n",
       "      <th>0004_01</th>\n",
       "      <td>Earth</td>\n",
       "      <td>False</td>\n",
       "      <td>F/1/S</td>\n",
       "      <td>TRAPPIST-1e</td>\n",
       "      <td>16.0</td>\n",
       "      <td>False</td>\n",
       "      <td>303.0</td>\n",
       "      <td>70.0</td>\n",
       "      <td>151.0</td>\n",
       "      <td>565.0</td>\n",
       "      <td>2.0</td>\n",
       "      <td>Willy Santantines</td>\n",
       "      <td>True</td>\n",
       "    </tr>\n",
       "  </tbody>\n",
       "</table>\n",
       "</div>"
      ],
      "text/plain": [
       "            HomePlanet  CryoSleep  Cabin  Destination   Age    VIP  \\\n",
       "PassengerId                                                          \n",
       "0001_01         Europa      False  B/0/P  TRAPPIST-1e  39.0  False   \n",
       "0002_01          Earth      False  F/0/S  TRAPPIST-1e  24.0  False   \n",
       "0003_01         Europa      False  A/0/S  TRAPPIST-1e  58.0   True   \n",
       "0003_02         Europa      False  A/0/S  TRAPPIST-1e  33.0  False   \n",
       "0004_01          Earth      False  F/1/S  TRAPPIST-1e  16.0  False   \n",
       "\n",
       "             RoomService  FoodCourt  ShoppingMall     Spa  VRDeck  \\\n",
       "PassengerId                                                         \n",
       "0001_01              0.0        0.0           0.0     0.0     0.0   \n",
       "0002_01            109.0        9.0          25.0   549.0    44.0   \n",
       "0003_01             43.0     3576.0           0.0  6715.0    49.0   \n",
       "0003_02              0.0     1283.0         371.0  3329.0   193.0   \n",
       "0004_01            303.0       70.0         151.0   565.0     2.0   \n",
       "\n",
       "                          Name  Transported  \n",
       "PassengerId                                  \n",
       "0001_01        Maham Ofracculy        False  \n",
       "0002_01           Juanna Vines         True  \n",
       "0003_01          Altark Susent        False  \n",
       "0003_02           Solam Susent        False  \n",
       "0004_01      Willy Santantines         True  "
      ]
     },
     "execution_count": 12,
     "metadata": {},
     "output_type": "execute_result"
    }
   ],
   "source": [
    "df_train.head()"
   ]
  },
  {
   "cell_type": "code",
   "execution_count": 13,
   "id": "f1f960cb",
   "metadata": {
    "execution": {
     "iopub.execute_input": "2023-10-13T04:16:33.946599Z",
     "iopub.status.busy": "2023-10-13T04:16:33.945995Z",
     "iopub.status.idle": "2023-10-13T04:16:34.261828Z",
     "shell.execute_reply": "2023-10-13T04:16:34.261021Z"
    },
    "papermill": {
     "duration": 0.330306,
     "end_time": "2023-10-13T04:16:34.263801",
     "exception": false,
     "start_time": "2023-10-13T04:16:33.933495",
     "status": "completed"
    },
    "tags": []
   },
   "outputs": [
    {
     "data": {
      "text/plain": [
       "<Axes: xlabel='HomePlanet', ylabel='count'>"
      ]
     },
     "execution_count": 13,
     "metadata": {},
     "output_type": "execute_result"
    },
    {
     "data": {
      "image/png": "[encoded data removed]",
      "text/plain": [
       "<Figure size 640x480 with 1 Axes>"
      ]
     },
     "metadata": {},
     "output_type": "display_data"
    }
   ],
   "source": [
    "sns.countplot(data = df_train, x = 'HomePlanet', hue='Transported')"
   ]
  },
  {
   "cell_type": "code",
   "execution_count": 14,
   "id": "24628e90",
   "metadata": {
    "execution": {
     "iopub.execute_input": "2023-10-13T04:16:34.289708Z",
     "iopub.status.busy": "2023-10-13T04:16:34.288521Z",
     "iopub.status.idle": "2023-10-13T04:16:34.554533Z",
     "shell.execute_reply": "2023-10-13T04:16:34.553314Z"
    },
    "papermill": {
     "duration": 0.281412,
     "end_time": "2023-10-13T04:16:34.556743",
     "exception": false,
     "start_time": "2023-10-13T04:16:34.275331",
     "status": "completed"
    },
    "tags": []
   },
   "outputs": [
    {
     "data": {
      "text/plain": [
       "<Axes: xlabel='CryoSleep', ylabel='count'>"
      ]
     },
     "execution_count": 14,
     "metadata": {},
     "output_type": "execute_result"
    },
    {
     "data": {
      "image/png": "[encoded data removed]",
      "text/plain": [
       "<Figure size 640x480 with 1 Axes>"
      ]
     },
     "metadata": {},
     "output_type": "display_data"
    }
   ],
   "source": [
    "sns.countplot(data = df_train, x = 'CryoSleep', hue='Transported')"
   ]
  },
  {
   "cell_type": "code",
   "execution_count": 15,
   "id": "d6b9de3b",
   "metadata": {
    "execution": {
     "iopub.execute_input": "2023-10-13T04:16:34.582248Z",
     "iopub.status.busy": "2023-10-13T04:16:34.581743Z",
     "iopub.status.idle": "2023-10-13T04:16:35.072013Z",
     "shell.execute_reply": "2023-10-13T04:16:35.071185Z"
    },
    "papermill": {
     "duration": 0.505891,
     "end_time": "2023-10-13T04:16:35.074416",
     "exception": false,
     "start_time": "2023-10-13T04:16:34.568525",
     "status": "completed"
    },
    "tags": []
   },
   "outputs": [
    {
     "data": {
      "text/plain": [
       "<Axes: xlabel='Age', ylabel='Count'>"
      ]
     },
     "execution_count": 15,
     "metadata": {},
     "output_type": "execute_result"
    },
    {
     "data": {
      "image/png": "[encoded data removed]",
      "text/plain": [
       "<Figure size 640x480 with 1 Axes>"
      ]
     },
     "metadata": {},
     "output_type": "display_data"
    }
   ],
   "source": [
    "sns.histplot(data = df_train, x = 'Age', hue='Transported')"
   ]
  },
  {
   "cell_type": "code",
   "execution_count": 16,
   "id": "992f8216",
   "metadata": {
    "execution": {
     "iopub.execute_input": "2023-10-13T04:16:35.102054Z",
     "iopub.status.busy": "2023-10-13T04:16:35.100946Z",
     "iopub.status.idle": "2023-10-13T04:16:35.276548Z",
     "shell.execute_reply": "2023-10-13T04:16:35.275690Z"
    },
    "papermill": {
     "duration": 0.191664,
     "end_time": "2023-10-13T04:16:35.278684",
     "exception": false,
     "start_time": "2023-10-13T04:16:35.087020",
     "status": "completed"
    },
    "tags": []
   },
   "outputs": [
    {
     "data": {
      "text/plain": [
       "<Axes: xlabel='VIP', ylabel='count'>"
      ]
     },
     "execution_count": 16,
     "metadata": {},
     "output_type": "execute_result"
    },
    {
     "data": {
      "image/png": "[encoded data removed]",
      "text/plain": [
       "<Figure size 640x480 with 1 Axes>"
      ]
     },
     "metadata": {},
     "output_type": "display_data"
    }
   ],
   "source": [
    "sns.countplot(data = df_train, x = 'VIP', hue = 'Transported')"
   ]
  },
  {
   "cell_type": "code",
   "execution_count": 17,
   "id": "19d15ef9",
   "metadata": {
    "execution": {
     "iopub.execute_input": "2023-10-13T04:16:35.307603Z",
     "iopub.status.busy": "2023-10-13T04:16:35.306706Z",
     "iopub.status.idle": "2023-10-13T04:16:35.479270Z",
     "shell.execute_reply": "2023-10-13T04:16:35.478049Z"
    },
    "papermill": {
     "duration": 0.189442,
     "end_time": "2023-10-13T04:16:35.481594",
     "exception": false,
     "start_time": "2023-10-13T04:16:35.292152",
     "status": "completed"
    },
    "tags": []
   },
   "outputs": [
    {
     "data": {
      "text/plain": [
       "<Axes: xlabel='Transported', ylabel='Age'>"
      ]
     },
     "execution_count": 17,
     "metadata": {},
     "output_type": "execute_result"
    },
    {
     "data": {
      "image/png": "[encoded data removed]",
      "text/plain": [
       "<Figure size 640x480 with 1 Axes>"
      ]
     },
     "metadata": {},
     "output_type": "display_data"
    }
   ],
   "source": [
    "sns.boxplot(data = df_train, x = 'Transported' , y = 'Age')"
   ]
  },
  {
   "cell_type": "code",
   "execution_count": 18,
   "id": "ecee853f",
   "metadata": {
    "execution": {
     "iopub.execute_input": "2023-10-13T04:16:35.512908Z",
     "iopub.status.busy": "2023-10-13T04:16:35.512173Z",
     "iopub.status.idle": "2023-10-13T04:16:35.531716Z",
     "shell.execute_reply": "2023-10-13T04:16:35.530595Z"
    },
    "papermill": {
     "duration": 0.038081,
     "end_time": "2023-10-13T04:16:35.534091",
     "exception": false,
     "start_time": "2023-10-13T04:16:35.496010",
     "status": "completed"
    },
    "tags": []
   },
   "outputs": [
    {
     "data": {
      "text/html": [
       "<div>\n",
       "<style scoped>\n",
       "    .dataframe tbody tr th:only-of-type {\n",
       "        vertical-align: middle;\n",
       "    }\n",
       "\n",
       "    .dataframe tbody tr th {\n",
       "        vertical-align: top;\n",
       "    }\n",
       "\n",
       "    .dataframe thead th {\n",
       "        text-align: right;\n",
       "    }\n",
       "</style>\n",
       "<table border=\"1\" class=\"dataframe\">\n",
       "  <thead>\n",
       "    <tr style=\"text-align: right;\">\n",
       "      <th></th>\n",
       "      <th>HomePlanet</th>\n",
       "      <th>CryoSleep</th>\n",
       "      <th>Cabin</th>\n",
       "      <th>Destination</th>\n",
       "      <th>Age</th>\n",
       "      <th>VIP</th>\n",
       "      <th>RoomService</th>\n",
       "      <th>FoodCourt</th>\n",
       "      <th>ShoppingMall</th>\n",
       "      <th>Spa</th>\n",
       "      <th>VRDeck</th>\n",
       "      <th>Name</th>\n",
       "      <th>Transported</th>\n",
       "    </tr>\n",
       "    <tr>\n",
       "      <th>PassengerId</th>\n",
       "      <th></th>\n",
       "      <th></th>\n",
       "      <th></th>\n",
       "      <th></th>\n",
       "      <th></th>\n",
       "      <th></th>\n",
       "      <th></th>\n",
       "      <th></th>\n",
       "      <th></th>\n",
       "      <th></th>\n",
       "      <th></th>\n",
       "      <th></th>\n",
       "      <th></th>\n",
       "    </tr>\n",
       "  </thead>\n",
       "  <tbody>\n",
       "    <tr>\n",
       "      <th>0001_01</th>\n",
       "      <td>Europa</td>\n",
       "      <td>False</td>\n",
       "      <td>B/0/P</td>\n",
       "      <td>TRAPPIST-1e</td>\n",
       "      <td>39.0</td>\n",
       "      <td>False</td>\n",
       "      <td>0.0</td>\n",
       "      <td>0.0</td>\n",
       "      <td>0.0</td>\n",
       "      <td>0.0</td>\n",
       "      <td>0.0</td>\n",
       "      <td>Maham Ofracculy</td>\n",
       "      <td>False</td>\n",
       "    </tr>\n",
       "    <tr>\n",
       "      <th>0002_01</th>\n",
       "      <td>Earth</td>\n",
       "      <td>False</td>\n",
       "      <td>F/0/S</td>\n",
       "      <td>TRAPPIST-1e</td>\n",
       "      <td>24.0</td>\n",
       "      <td>False</td>\n",
       "      <td>109.0</td>\n",
       "      <td>9.0</td>\n",
       "      <td>25.0</td>\n",
       "      <td>549.0</td>\n",
       "      <td>44.0</td>\n",
       "      <td>Juanna Vines</td>\n",
       "      <td>True</td>\n",
       "    </tr>\n",
       "    <tr>\n",
       "      <th>0003_01</th>\n",
       "      <td>Europa</td>\n",
       "      <td>False</td>\n",
       "      <td>A/0/S</td>\n",
       "      <td>TRAPPIST-1e</td>\n",
       "      <td>58.0</td>\n",
       "      <td>True</td>\n",
       "      <td>43.0</td>\n",
       "      <td>3576.0</td>\n",
       "      <td>0.0</td>\n",
       "      <td>6715.0</td>\n",
       "      <td>49.0</td>\n",
       "      <td>Altark Susent</td>\n",
       "      <td>False</td>\n",
       "    </tr>\n",
       "    <tr>\n",
       "      <th>0003_02</th>\n",
       "      <td>Europa</td>\n",
       "      <td>False</td>\n",
       "      <td>A/0/S</td>\n",
       "      <td>TRAPPIST-1e</td>\n",
       "      <td>33.0</td>\n",
       "      <td>False</td>\n",
       "      <td>0.0</td>\n",
       "      <td>1283.0</td>\n",
       "      <td>371.0</td>\n",
       "      <td>3329.0</td>\n",
       "      <td>193.0</td>\n",
       "      <td>Solam Susent</td>\n",
       "      <td>False</td>\n",
       "    </tr>\n",
       "    <tr>\n",
       "      <th>0004_01</th>\n",
       "      <td>Earth</td>\n",
       "      <td>False</td>\n",
       "      <td>F/1/S</td>\n",
       "      <td>TRAPPIST-1e</td>\n",
       "      <td>16.0</td>\n",
       "      <td>False</td>\n",
       "      <td>303.0</td>\n",
       "      <td>70.0</td>\n",
       "      <td>151.0</td>\n",
       "      <td>565.0</td>\n",
       "      <td>2.0</td>\n",
       "      <td>Willy Santantines</td>\n",
       "      <td>True</td>\n",
       "    </tr>\n",
       "  </tbody>\n",
       "</table>\n",
       "</div>"
      ],
      "text/plain": [
       "            HomePlanet  CryoSleep  Cabin  Destination   Age    VIP  \\\n",
       "PassengerId                                                          \n",
       "0001_01         Europa      False  B/0/P  TRAPPIST-1e  39.0  False   \n",
       "0002_01          Earth      False  F/0/S  TRAPPIST-1e  24.0  False   \n",
       "0003_01         Europa      False  A/0/S  TRAPPIST-1e  58.0   True   \n",
       "0003_02         Europa      False  A/0/S  TRAPPIST-1e  33.0  False   \n",
       "0004_01          Earth      False  F/1/S  TRAPPIST-1e  16.0  False   \n",
       "\n",
       "             RoomService  FoodCourt  ShoppingMall     Spa  VRDeck  \\\n",
       "PassengerId                                                         \n",
       "0001_01              0.0        0.0           0.0     0.0     0.0   \n",
       "0002_01            109.0        9.0          25.0   549.0    44.0   \n",
       "0003_01             43.0     3576.0           0.0  6715.0    49.0   \n",
       "0003_02              0.0     1283.0         371.0  3329.0   193.0   \n",
       "0004_01            303.0       70.0         151.0   565.0     2.0   \n",
       "\n",
       "                          Name  Transported  \n",
       "PassengerId                                  \n",
       "0001_01        Maham Ofracculy        False  \n",
       "0002_01           Juanna Vines         True  \n",
       "0003_01          Altark Susent        False  \n",
       "0003_02           Solam Susent        False  \n",
       "0004_01      Willy Santantines         True  "
      ]
     },
     "execution_count": 18,
     "metadata": {},
     "output_type": "execute_result"
    }
   ],
   "source": [
    "df_train.head()"
   ]
  },
  {
   "cell_type": "code",
   "execution_count": 19,
   "id": "4abdfd39",
   "metadata": {
    "execution": {
     "iopub.execute_input": "2023-10-13T04:16:35.563793Z",
     "iopub.status.busy": "2023-10-13T04:16:35.563403Z",
     "iopub.status.idle": "2023-10-13T04:16:35.572507Z",
     "shell.execute_reply": "2023-10-13T04:16:35.571399Z"
    },
    "papermill": {
     "duration": 0.026674,
     "end_time": "2023-10-13T04:16:35.574715",
     "exception": false,
     "start_time": "2023-10-13T04:16:35.548041",
     "status": "completed"
    },
    "tags": []
   },
   "outputs": [
    {
     "data": {
      "text/plain": [
       "HomePlanet\n",
       "Earth     4803\n",
       "Europa    2131\n",
       "Mars      1759\n",
       "Name: count, dtype: int64"
      ]
     },
     "execution_count": 19,
     "metadata": {},
     "output_type": "execute_result"
    }
   ],
   "source": [
    "df_train['HomePlanet'].value_counts()"
   ]
  },
  {
   "cell_type": "code",
   "execution_count": 20,
   "id": "01830d7b",
   "metadata": {
    "execution": {
     "iopub.execute_input": "2023-10-13T04:16:35.606006Z",
     "iopub.status.busy": "2023-10-13T04:16:35.605360Z",
     "iopub.status.idle": "2023-10-13T04:16:35.613690Z",
     "shell.execute_reply": "2023-10-13T04:16:35.612338Z"
    },
    "papermill": {
     "duration": 0.028179,
     "end_time": "2023-10-13T04:16:35.616576",
     "exception": false,
     "start_time": "2023-10-13T04:16:35.588397",
     "status": "completed"
    },
    "tags": []
   },
   "outputs": [],
   "source": [
    "df_train_dummies = pd.get_dummies(df_train['HomePlanet']).astype(int)\n",
    "df_test_dummies = pd.get_dummies(df_test['HomePlanet']).astype(int)"
   ]
  },
  {
   "cell_type": "code",
   "execution_count": 21,
   "id": "2e4c0add",
   "metadata": {
    "execution": {
     "iopub.execute_input": "2023-10-13T04:16:35.646702Z",
     "iopub.status.busy": "2023-10-13T04:16:35.646317Z",
     "iopub.status.idle": "2023-10-13T04:16:35.655476Z",
     "shell.execute_reply": "2023-10-13T04:16:35.653829Z"
    },
    "papermill": {
     "duration": 0.027115,
     "end_time": "2023-10-13T04:16:35.657825",
     "exception": false,
     "start_time": "2023-10-13T04:16:35.630710",
     "status": "completed"
    },
    "tags": []
   },
   "outputs": [],
   "source": [
    "df_train.drop('HomePlanet', axis = 1, inplace = True)\n",
    "df_test.drop('HomePlanet', axis = 1, inplace = True)"
   ]
  },
  {
   "cell_type": "code",
   "execution_count": 22,
   "id": "cf35194b",
   "metadata": {
    "execution": {
     "iopub.execute_input": "2023-10-13T04:16:35.686599Z",
     "iopub.status.busy": "2023-10-13T04:16:35.685844Z",
     "iopub.status.idle": "2023-10-13T04:16:35.694018Z",
     "shell.execute_reply": "2023-10-13T04:16:35.693178Z"
    },
    "papermill": {
     "duration": 0.024942,
     "end_time": "2023-10-13T04:16:35.696113",
     "exception": false,
     "start_time": "2023-10-13T04:16:35.671171",
     "status": "completed"
    },
    "tags": []
   },
   "outputs": [],
   "source": [
    "df_train = pd.concat([df_train,df_train_dummies], axis = 1)\n",
    "df_test = pd.concat([df_test,df_test_dummies], axis = 1)"
   ]
  },
  {
   "cell_type": "code",
   "execution_count": 23,
   "id": "e7ec8ed1",
   "metadata": {
    "execution": {
     "iopub.execute_input": "2023-10-13T04:16:35.725317Z",
     "iopub.status.busy": "2023-10-13T04:16:35.724165Z",
     "iopub.status.idle": "2023-10-13T04:16:35.743064Z",
     "shell.execute_reply": "2023-10-13T04:16:35.741912Z"
    },
    "papermill": {
     "duration": 0.035682,
     "end_time": "2023-10-13T04:16:35.745475",
     "exception": false,
     "start_time": "2023-10-13T04:16:35.709793",
     "status": "completed"
    },
    "tags": []
   },
   "outputs": [
    {
     "data": {
      "text/html": [
       "<div>\n",
       "<style scoped>\n",
       "    .dataframe tbody tr th:only-of-type {\n",
       "        vertical-align: middle;\n",
       "    }\n",
       "\n",
       "    .dataframe tbody tr th {\n",
       "        vertical-align: top;\n",
       "    }\n",
       "\n",
       "    .dataframe thead th {\n",
       "        text-align: right;\n",
       "    }\n",
       "</style>\n",
       "<table border=\"1\" class=\"dataframe\">\n",
       "  <thead>\n",
       "    <tr style=\"text-align: right;\">\n",
       "      <th></th>\n",
       "      <th>CryoSleep</th>\n",
       "      <th>Cabin</th>\n",
       "      <th>Destination</th>\n",
       "      <th>Age</th>\n",
       "      <th>VIP</th>\n",
       "      <th>RoomService</th>\n",
       "      <th>FoodCourt</th>\n",
       "      <th>ShoppingMall</th>\n",
       "      <th>Spa</th>\n",
       "      <th>VRDeck</th>\n",
       "      <th>Name</th>\n",
       "      <th>Transported</th>\n",
       "      <th>Earth</th>\n",
       "      <th>Europa</th>\n",
       "      <th>Mars</th>\n",
       "    </tr>\n",
       "    <tr>\n",
       "      <th>PassengerId</th>\n",
       "      <th></th>\n",
       "      <th></th>\n",
       "      <th></th>\n",
       "      <th></th>\n",
       "      <th></th>\n",
       "      <th></th>\n",
       "      <th></th>\n",
       "      <th></th>\n",
       "      <th></th>\n",
       "      <th></th>\n",
       "      <th></th>\n",
       "      <th></th>\n",
       "      <th></th>\n",
       "      <th></th>\n",
       "      <th></th>\n",
       "    </tr>\n",
       "  </thead>\n",
       "  <tbody>\n",
       "    <tr>\n",
       "      <th>0001_01</th>\n",
       "      <td>False</td>\n",
       "      <td>B/0/P</td>\n",
       "      <td>TRAPPIST-1e</td>\n",
       "      <td>39.0</td>\n",
       "      <td>False</td>\n",
       "      <td>0.0</td>\n",
       "      <td>0.0</td>\n",
       "      <td>0.0</td>\n",
       "      <td>0.0</td>\n",
       "      <td>0.0</td>\n",
       "      <td>Maham Ofracculy</td>\n",
       "      <td>False</td>\n",
       "      <td>0</td>\n",
       "      <td>1</td>\n",
       "      <td>0</td>\n",
       "    </tr>\n",
       "    <tr>\n",
       "      <th>0002_01</th>\n",
       "      <td>False</td>\n",
       "      <td>F/0/S</td>\n",
       "      <td>TRAPPIST-1e</td>\n",
       "      <td>24.0</td>\n",
       "      <td>False</td>\n",
       "      <td>109.0</td>\n",
       "      <td>9.0</td>\n",
       "      <td>25.0</td>\n",
       "      <td>549.0</td>\n",
       "      <td>44.0</td>\n",
       "      <td>Juanna Vines</td>\n",
       "      <td>True</td>\n",
       "      <td>1</td>\n",
       "      <td>0</td>\n",
       "      <td>0</td>\n",
       "    </tr>\n",
       "    <tr>\n",
       "      <th>0003_01</th>\n",
       "      <td>False</td>\n",
       "      <td>A/0/S</td>\n",
       "      <td>TRAPPIST-1e</td>\n",
       "      <td>58.0</td>\n",
       "      <td>True</td>\n",
       "      <td>43.0</td>\n",
       "      <td>3576.0</td>\n",
       "      <td>0.0</td>\n",
       "      <td>6715.0</td>\n",
       "      <td>49.0</td>\n",
       "      <td>Altark Susent</td>\n",
       "      <td>False</td>\n",
       "      <td>0</td>\n",
       "      <td>1</td>\n",
       "      <td>0</td>\n",
       "    </tr>\n",
       "    <tr>\n",
       "      <th>0003_02</th>\n",
       "      <td>False</td>\n",
       "      <td>A/0/S</td>\n",
       "      <td>TRAPPIST-1e</td>\n",
       "      <td>33.0</td>\n",
       "      <td>False</td>\n",
       "      <td>0.0</td>\n",
       "      <td>1283.0</td>\n",
       "      <td>371.0</td>\n",
       "      <td>3329.0</td>\n",
       "      <td>193.0</td>\n",
       "      <td>Solam Susent</td>\n",
       "      <td>False</td>\n",
       "      <td>0</td>\n",
       "      <td>1</td>\n",
       "      <td>0</td>\n",
       "    </tr>\n",
       "    <tr>\n",
       "      <th>0004_01</th>\n",
       "      <td>False</td>\n",
       "      <td>F/1/S</td>\n",
       "      <td>TRAPPIST-1e</td>\n",
       "      <td>16.0</td>\n",
       "      <td>False</td>\n",
       "      <td>303.0</td>\n",
       "      <td>70.0</td>\n",
       "      <td>151.0</td>\n",
       "      <td>565.0</td>\n",
       "      <td>2.0</td>\n",
       "      <td>Willy Santantines</td>\n",
       "      <td>True</td>\n",
       "      <td>1</td>\n",
       "      <td>0</td>\n",
       "      <td>0</td>\n",
       "    </tr>\n",
       "  </tbody>\n",
       "</table>\n",
       "</div>"
      ],
      "text/plain": [
       "             CryoSleep  Cabin  Destination   Age    VIP  RoomService  \\\n",
       "PassengerId                                                            \n",
       "0001_01          False  B/0/P  TRAPPIST-1e  39.0  False          0.0   \n",
       "0002_01          False  F/0/S  TRAPPIST-1e  24.0  False        109.0   \n",
       "0003_01          False  A/0/S  TRAPPIST-1e  58.0   True         43.0   \n",
       "0003_02          False  A/0/S  TRAPPIST-1e  33.0  False          0.0   \n",
       "0004_01          False  F/1/S  TRAPPIST-1e  16.0  False        303.0   \n",
       "\n",
       "             FoodCourt  ShoppingMall     Spa  VRDeck               Name  \\\n",
       "PassengerId                                                               \n",
       "0001_01            0.0           0.0     0.0     0.0    Maham Ofracculy   \n",
       "0002_01            9.0          25.0   549.0    44.0       Juanna Vines   \n",
       "0003_01         3576.0           0.0  6715.0    49.0      Altark Susent   \n",
       "0003_02         1283.0         371.0  3329.0   193.0       Solam Susent   \n",
       "0004_01           70.0         151.0   565.0     2.0  Willy Santantines   \n",
       "\n",
       "             Transported  Earth  Europa  Mars  \n",
       "PassengerId                                    \n",
       "0001_01            False      0       1     0  \n",
       "0002_01             True      1       0     0  \n",
       "0003_01            False      0       1     0  \n",
       "0003_02            False      0       1     0  \n",
       "0004_01             True      1       0     0  "
      ]
     },
     "execution_count": 23,
     "metadata": {},
     "output_type": "execute_result"
    }
   ],
   "source": [
    "df_train.head()\n"
   ]
  },
  {
   "cell_type": "code",
   "execution_count": 24,
   "id": "9a980898",
   "metadata": {
    "execution": {
     "iopub.execute_input": "2023-10-13T04:16:35.774741Z",
     "iopub.status.busy": "2023-10-13T04:16:35.774377Z",
     "iopub.status.idle": "2023-10-13T04:16:35.794555Z",
     "shell.execute_reply": "2023-10-13T04:16:35.793636Z"
    },
    "papermill": {
     "duration": 0.037538,
     "end_time": "2023-10-13T04:16:35.796990",
     "exception": false,
     "start_time": "2023-10-13T04:16:35.759452",
     "status": "completed"
    },
    "tags": []
   },
   "outputs": [],
   "source": [
    "df_train['VIP']=df_train['VIP'].replace({True:1,False:0})\n",
    "df_test['VIP']=df_test['VIP'].replace({True:1,False:0})\n",
    "\n",
    "df_train['CryoSleep']=df_train['CryoSleep'].replace({True:1,False:0})\n",
    "df_test['CryoSleep']=df_test['CryoSleep'].replace({True:1,False:0})"
   ]
  },
  {
   "cell_type": "code",
   "execution_count": 25,
   "id": "c0900d53",
   "metadata": {
    "execution": {
     "iopub.execute_input": "2023-10-13T04:16:35.826246Z",
     "iopub.status.busy": "2023-10-13T04:16:35.825572Z",
     "iopub.status.idle": "2023-10-13T04:16:35.842592Z",
     "shell.execute_reply": "2023-10-13T04:16:35.841723Z"
    },
    "papermill": {
     "duration": 0.034191,
     "end_time": "2023-10-13T04:16:35.844795",
     "exception": false,
     "start_time": "2023-10-13T04:16:35.810604",
     "status": "completed"
    },
    "tags": []
   },
   "outputs": [
    {
     "data": {
      "text/html": [
       "<div>\n",
       "<style scoped>\n",
       "    .dataframe tbody tr th:only-of-type {\n",
       "        vertical-align: middle;\n",
       "    }\n",
       "\n",
       "    .dataframe tbody tr th {\n",
       "        vertical-align: top;\n",
       "    }\n",
       "\n",
       "    .dataframe thead th {\n",
       "        text-align: right;\n",
       "    }\n",
       "</style>\n",
       "<table border=\"1\" class=\"dataframe\">\n",
       "  <thead>\n",
       "    <tr style=\"text-align: right;\">\n",
       "      <th></th>\n",
       "      <th>CryoSleep</th>\n",
       "      <th>Cabin</th>\n",
       "      <th>Destination</th>\n",
       "      <th>Age</th>\n",
       "      <th>VIP</th>\n",
       "      <th>RoomService</th>\n",
       "      <th>FoodCourt</th>\n",
       "      <th>ShoppingMall</th>\n",
       "      <th>Spa</th>\n",
       "      <th>VRDeck</th>\n",
       "      <th>Name</th>\n",
       "      <th>Transported</th>\n",
       "      <th>Earth</th>\n",
       "      <th>Europa</th>\n",
       "      <th>Mars</th>\n",
       "    </tr>\n",
       "    <tr>\n",
       "      <th>PassengerId</th>\n",
       "      <th></th>\n",
       "      <th></th>\n",
       "      <th></th>\n",
       "      <th></th>\n",
       "      <th></th>\n",
       "      <th></th>\n",
       "      <th></th>\n",
       "      <th></th>\n",
       "      <th></th>\n",
       "      <th></th>\n",
       "      <th></th>\n",
       "      <th></th>\n",
       "      <th></th>\n",
       "      <th></th>\n",
       "      <th></th>\n",
       "    </tr>\n",
       "  </thead>\n",
       "  <tbody>\n",
       "    <tr>\n",
       "      <th>0001_01</th>\n",
       "      <td>0</td>\n",
       "      <td>B/0/P</td>\n",
       "      <td>TRAPPIST-1e</td>\n",
       "      <td>39.0</td>\n",
       "      <td>0</td>\n",
       "      <td>0.0</td>\n",
       "      <td>0.0</td>\n",
       "      <td>0.0</td>\n",
       "      <td>0.0</td>\n",
       "      <td>0.0</td>\n",
       "      <td>Maham Ofracculy</td>\n",
       "      <td>False</td>\n",
       "      <td>0</td>\n",
       "      <td>1</td>\n",
       "      <td>0</td>\n",
       "    </tr>\n",
       "    <tr>\n",
       "      <th>0002_01</th>\n",
       "      <td>0</td>\n",
       "      <td>F/0/S</td>\n",
       "      <td>TRAPPIST-1e</td>\n",
       "      <td>24.0</td>\n",
       "      <td>0</td>\n",
       "      <td>109.0</td>\n",
       "      <td>9.0</td>\n",
       "      <td>25.0</td>\n",
       "      <td>549.0</td>\n",
       "      <td>44.0</td>\n",
       "      <td>Juanna Vines</td>\n",
       "      <td>True</td>\n",
       "      <td>1</td>\n",
       "      <td>0</td>\n",
       "      <td>0</td>\n",
       "    </tr>\n",
       "    <tr>\n",
       "      <th>0003_01</th>\n",
       "      <td>0</td>\n",
       "      <td>A/0/S</td>\n",
       "      <td>TRAPPIST-1e</td>\n",
       "      <td>58.0</td>\n",
       "      <td>1</td>\n",
       "      <td>43.0</td>\n",
       "      <td>3576.0</td>\n",
       "      <td>0.0</td>\n",
       "      <td>6715.0</td>\n",
       "      <td>49.0</td>\n",
       "      <td>Altark Susent</td>\n",
       "      <td>False</td>\n",
       "      <td>0</td>\n",
       "      <td>1</td>\n",
       "      <td>0</td>\n",
       "    </tr>\n",
       "    <tr>\n",
       "      <th>0003_02</th>\n",
       "      <td>0</td>\n",
       "      <td>A/0/S</td>\n",
       "      <td>TRAPPIST-1e</td>\n",
       "      <td>33.0</td>\n",
       "      <td>0</td>\n",
       "      <td>0.0</td>\n",
       "      <td>1283.0</td>\n",
       "      <td>371.0</td>\n",
       "      <td>3329.0</td>\n",
       "      <td>193.0</td>\n",
       "      <td>Solam Susent</td>\n",
       "      <td>False</td>\n",
       "      <td>0</td>\n",
       "      <td>1</td>\n",
       "      <td>0</td>\n",
       "    </tr>\n",
       "    <tr>\n",
       "      <th>0004_01</th>\n",
       "      <td>0</td>\n",
       "      <td>F/1/S</td>\n",
       "      <td>TRAPPIST-1e</td>\n",
       "      <td>16.0</td>\n",
       "      <td>0</td>\n",
       "      <td>303.0</td>\n",
       "      <td>70.0</td>\n",
       "      <td>151.0</td>\n",
       "      <td>565.0</td>\n",
       "      <td>2.0</td>\n",
       "      <td>Willy Santantines</td>\n",
       "      <td>True</td>\n",
       "      <td>1</td>\n",
       "      <td>0</td>\n",
       "      <td>0</td>\n",
       "    </tr>\n",
       "  </tbody>\n",
       "</table>\n",
       "</div>"
      ],
      "text/plain": [
       "             CryoSleep  Cabin  Destination   Age  VIP  RoomService  FoodCourt  \\\n",
       "PassengerId                                                                     \n",
       "0001_01              0  B/0/P  TRAPPIST-1e  39.0    0          0.0        0.0   \n",
       "0002_01              0  F/0/S  TRAPPIST-1e  24.0    0        109.0        9.0   \n",
       "0003_01              0  A/0/S  TRAPPIST-1e  58.0    1         43.0     3576.0   \n",
       "0003_02              0  A/0/S  TRAPPIST-1e  33.0    0          0.0     1283.0   \n",
       "0004_01              0  F/1/S  TRAPPIST-1e  16.0    0        303.0       70.0   \n",
       "\n",
       "             ShoppingMall     Spa  VRDeck               Name  Transported  \\\n",
       "PassengerId                                                                 \n",
       "0001_01               0.0     0.0     0.0    Maham Ofracculy        False   \n",
       "0002_01              25.0   549.0    44.0       Juanna Vines         True   \n",
       "0003_01               0.0  6715.0    49.0      Altark Susent        False   \n",
       "0003_02             371.0  3329.0   193.0       Solam Susent        False   \n",
       "0004_01             151.0   565.0     2.0  Willy Santantines         True   \n",
       "\n",
       "             Earth  Europa  Mars  \n",
       "PassengerId                       \n",
       "0001_01          0       1     0  \n",
       "0002_01          1       0     0  \n",
       "0003_01          0       1     0  \n",
       "0003_02          0       1     0  \n",
       "0004_01          1       0     0  "
      ]
     },
     "execution_count": 25,
     "metadata": {},
     "output_type": "execute_result"
    }
   ],
   "source": [
    "df_train.head()"
   ]
  },
  {
   "cell_type": "code",
   "execution_count": 26,
   "id": "d6fb722e",
   "metadata": {
    "execution": {
     "iopub.execute_input": "2023-10-13T04:16:35.875387Z",
     "iopub.status.busy": "2023-10-13T04:16:35.874687Z",
     "iopub.status.idle": "2023-10-13T04:16:37.799341Z",
     "shell.execute_reply": "2023-10-13T04:16:37.798290Z"
    },
    "papermill": {
     "duration": 1.942905,
     "end_time": "2023-10-13T04:16:37.801835",
     "exception": false,
     "start_time": "2023-10-13T04:16:35.858930",
     "status": "completed"
    },
    "tags": []
   },
   "outputs": [],
   "source": [
    "df_train[['Deck', 'Cabin_Num','Side']] = df_train['Cabin'].apply(lambda x : pd.Series(x.split('/')))\n",
    "df_test[['Deck', 'Cabin_Num','Side']] = df_test['Cabin'].apply(lambda x : pd.Series(x.split('/')))"
   ]
  },
  {
   "cell_type": "code",
   "execution_count": 27,
   "id": "16cd6b4e",
   "metadata": {
    "execution": {
     "iopub.execute_input": "2023-10-13T04:16:37.831307Z",
     "iopub.status.busy": "2023-10-13T04:16:37.830900Z",
     "iopub.status.idle": "2023-10-13T04:16:37.840072Z",
     "shell.execute_reply": "2023-10-13T04:16:37.839272Z"
    },
    "papermill": {
     "duration": 0.026632,
     "end_time": "2023-10-13T04:16:37.842307",
     "exception": false,
     "start_time": "2023-10-13T04:16:37.815675",
     "status": "completed"
    },
    "tags": []
   },
   "outputs": [],
   "source": [
    "df_train.drop('Cabin',axis =1, inplace = True)\n",
    "df_test.drop('Cabin',axis =1, inplace = True)"
   ]
  },
  {
   "cell_type": "code",
   "execution_count": 28,
   "id": "9d1b9fcd",
   "metadata": {
    "execution": {
     "iopub.execute_input": "2023-10-13T04:16:37.872652Z",
     "iopub.status.busy": "2023-10-13T04:16:37.872308Z",
     "iopub.status.idle": "2023-10-13T04:16:37.888691Z",
     "shell.execute_reply": "2023-10-13T04:16:37.887288Z"
    },
    "papermill": {
     "duration": 0.034967,
     "end_time": "2023-10-13T04:16:37.891101",
     "exception": false,
     "start_time": "2023-10-13T04:16:37.856134",
     "status": "completed"
    },
    "tags": []
   },
   "outputs": [
    {
     "name": "stdout",
     "output_type": "stream",
     "text": [
      "<class 'pandas.core.frame.DataFrame'>\n",
      "Index: 8693 entries, 0001_01 to 9280_02\n",
      "Data columns (total 17 columns):\n",
      " #   Column        Non-Null Count  Dtype  \n",
      "---  ------        --------------  -----  \n",
      " 0   CryoSleep     8693 non-null   int64  \n",
      " 1   Destination   8693 non-null   object \n",
      " 2   Age           8693 non-null   float64\n",
      " 3   VIP           8693 non-null   int64  \n",
      " 4   RoomService   8693 non-null   float64\n",
      " 5   FoodCourt     8693 non-null   float64\n",
      " 6   ShoppingMall  8693 non-null   float64\n",
      " 7   Spa           8693 non-null   float64\n",
      " 8   VRDeck        8693 non-null   float64\n",
      " 9   Name          8493 non-null   object \n",
      " 10  Transported   8693 non-null   bool   \n",
      " 11  Earth         8693 non-null   int64  \n",
      " 12  Europa        8693 non-null   int64  \n",
      " 13  Mars          8693 non-null   int64  \n",
      " 14  Deck          8693 non-null   object \n",
      " 15  Cabin_Num     8693 non-null   object \n",
      " 16  Side          8693 non-null   object \n",
      "dtypes: bool(1), float64(6), int64(5), object(5)\n",
      "memory usage: 1.4+ MB\n"
     ]
    }
   ],
   "source": [
    "df_train.info()"
   ]
  },
  {
   "cell_type": "code",
   "execution_count": 29,
   "id": "05e93130",
   "metadata": {
    "execution": {
     "iopub.execute_input": "2023-10-13T04:16:37.921160Z",
     "iopub.status.busy": "2023-10-13T04:16:37.920821Z",
     "iopub.status.idle": "2023-10-13T04:16:37.930176Z",
     "shell.execute_reply": "2023-10-13T04:16:37.929386Z"
    },
    "papermill": {
     "duration": 0.026812,
     "end_time": "2023-10-13T04:16:37.932283",
     "exception": false,
     "start_time": "2023-10-13T04:16:37.905471",
     "status": "completed"
    },
    "tags": []
   },
   "outputs": [],
   "source": [
    "dummies = pd.get_dummies(df_train['Deck']).astype(int)\n",
    "dummies1 = pd.get_dummies(df_test['Deck']).astype(int)"
   ]
  },
  {
   "cell_type": "code",
   "execution_count": 30,
   "id": "e2c64221",
   "metadata": {
    "execution": {
     "iopub.execute_input": "2023-10-13T04:16:37.962189Z",
     "iopub.status.busy": "2023-10-13T04:16:37.961041Z",
     "iopub.status.idle": "2023-10-13T04:16:37.971391Z",
     "shell.execute_reply": "2023-10-13T04:16:37.970570Z"
    },
    "papermill": {
     "duration": 0.027369,
     "end_time": "2023-10-13T04:16:37.973478",
     "exception": false,
     "start_time": "2023-10-13T04:16:37.946109",
     "status": "completed"
    },
    "tags": []
   },
   "outputs": [],
   "source": [
    "df_train.drop('Deck',axis = 1, inplace = True)\n",
    "df_test.drop('Deck',axis = 1, inplace = True)"
   ]
  },
  {
   "cell_type": "code",
   "execution_count": 31,
   "id": "35baf8ec",
   "metadata": {
    "execution": {
     "iopub.execute_input": "2023-10-13T04:16:38.003470Z",
     "iopub.status.busy": "2023-10-13T04:16:38.002463Z",
     "iopub.status.idle": "2023-10-13T04:16:38.011963Z",
     "shell.execute_reply": "2023-10-13T04:16:38.011086Z"
    },
    "papermill": {
     "duration": 0.026872,
     "end_time": "2023-10-13T04:16:38.014399",
     "exception": false,
     "start_time": "2023-10-13T04:16:37.987527",
     "status": "completed"
    },
    "tags": []
   },
   "outputs": [],
   "source": [
    "df_train = pd.concat([df_train,dummies],axis = 1)\n",
    "df_test = pd.concat([df_test,dummies1],axis = 1)"
   ]
  },
  {
   "cell_type": "code",
   "execution_count": 32,
   "id": "b7df9fe8",
   "metadata": {
    "execution": {
     "iopub.execute_input": "2023-10-13T04:16:38.045402Z",
     "iopub.status.busy": "2023-10-13T04:16:38.044987Z",
     "iopub.status.idle": "2023-10-13T04:16:38.055008Z",
     "shell.execute_reply": "2023-10-13T04:16:38.053883Z"
    },
    "papermill": {
     "duration": 0.028307,
     "end_time": "2023-10-13T04:16:38.057286",
     "exception": false,
     "start_time": "2023-10-13T04:16:38.028979",
     "status": "completed"
    },
    "tags": []
   },
   "outputs": [],
   "source": [
    "df_train['Cabin_Num'] = df_train['Cabin_Num'].astype(int)\n",
    "df_test['Cabin_Num'] = df_test['Cabin_Num'].astype(int)"
   ]
  },
  {
   "cell_type": "code",
   "execution_count": 33,
   "id": "6cdebab2",
   "metadata": {
    "execution": {
     "iopub.execute_input": "2023-10-13T04:16:38.087900Z",
     "iopub.status.busy": "2023-10-13T04:16:38.087515Z",
     "iopub.status.idle": "2023-10-13T04:16:38.095965Z",
     "shell.execute_reply": "2023-10-13T04:16:38.094864Z"
    },
    "papermill": {
     "duration": 0.026587,
     "end_time": "2023-10-13T04:16:38.098271",
     "exception": false,
     "start_time": "2023-10-13T04:16:38.071684",
     "status": "completed"
    },
    "tags": []
   },
   "outputs": [],
   "source": [
    "dummies = pd.get_dummies(df_train['Side'],drop_first=True).astype(int)\n",
    "dummies1 = pd.get_dummies(df_test['Side'],drop_first=True).astype(int)"
   ]
  },
  {
   "cell_type": "code",
   "execution_count": 34,
   "id": "c1e9fcd8",
   "metadata": {
    "execution": {
     "iopub.execute_input": "2023-10-13T04:16:38.130125Z",
     "iopub.status.busy": "2023-10-13T04:16:38.129696Z",
     "iopub.status.idle": "2023-10-13T04:16:38.138144Z",
     "shell.execute_reply": "2023-10-13T04:16:38.137222Z"
    },
    "papermill": {
     "duration": 0.026571,
     "end_time": "2023-10-13T04:16:38.140317",
     "exception": false,
     "start_time": "2023-10-13T04:16:38.113746",
     "status": "completed"
    },
    "tags": []
   },
   "outputs": [],
   "source": [
    "df_train.drop('Side',axis=1,inplace=True)\n",
    "df_test.drop('Side',axis=1,inplace=True)"
   ]
  },
  {
   "cell_type": "code",
   "execution_count": 35,
   "id": "9bed2f21",
   "metadata": {
    "execution": {
     "iopub.execute_input": "2023-10-13T04:16:38.171320Z",
     "iopub.status.busy": "2023-10-13T04:16:38.170922Z",
     "iopub.status.idle": "2023-10-13T04:16:38.180191Z",
     "shell.execute_reply": "2023-10-13T04:16:38.179036Z"
    },
    "papermill": {
     "duration": 0.02757,
     "end_time": "2023-10-13T04:16:38.182912",
     "exception": false,
     "start_time": "2023-10-13T04:16:38.155342",
     "status": "completed"
    },
    "tags": []
   },
   "outputs": [],
   "source": [
    "df_train = pd.concat([df_train,dummies],axis=1)\n",
    "df_test = pd.concat([df_test,dummies1],axis=1)"
   ]
  },
  {
   "cell_type": "code",
   "execution_count": 36,
   "id": "89bcce30",
   "metadata": {
    "execution": {
     "iopub.execute_input": "2023-10-13T04:16:38.213513Z",
     "iopub.status.busy": "2023-10-13T04:16:38.212834Z",
     "iopub.status.idle": "2023-10-13T04:16:38.221773Z",
     "shell.execute_reply": "2023-10-13T04:16:38.220609Z"
    },
    "papermill": {
     "duration": 0.026555,
     "end_time": "2023-10-13T04:16:38.224147",
     "exception": false,
     "start_time": "2023-10-13T04:16:38.197592",
     "status": "completed"
    },
    "tags": []
   },
   "outputs": [],
   "source": [
    "dummies = pd.get_dummies(df_train['Destination']).astype(int)\n",
    "dummies1 = pd.get_dummies(df_test['Destination']).astype(int)"
   ]
  },
  {
   "cell_type": "code",
   "execution_count": 37,
   "id": "377f8e52",
   "metadata": {
    "execution": {
     "iopub.execute_input": "2023-10-13T04:16:38.254657Z",
     "iopub.status.busy": "2023-10-13T04:16:38.254322Z",
     "iopub.status.idle": "2023-10-13T04:16:38.263666Z",
     "shell.execute_reply": "2023-10-13T04:16:38.262579Z"
    },
    "papermill": {
     "duration": 0.027247,
     "end_time": "2023-10-13T04:16:38.265818",
     "exception": false,
     "start_time": "2023-10-13T04:16:38.238571",
     "status": "completed"
    },
    "tags": []
   },
   "outputs": [],
   "source": [
    "df_train.drop('Destination',axis=1,inplace=True)\n",
    "df_test.drop('Destination',axis=1,inplace=True)"
   ]
  },
  {
   "cell_type": "code",
   "execution_count": 38,
   "id": "eda2856e",
   "metadata": {
    "execution": {
     "iopub.execute_input": "2023-10-13T04:16:38.295339Z",
     "iopub.status.busy": "2023-10-13T04:16:38.294944Z",
     "iopub.status.idle": "2023-10-13T04:16:38.304518Z",
     "shell.execute_reply": "2023-10-13T04:16:38.303386Z"
    },
    "papermill": {
     "duration": 0.02739,
     "end_time": "2023-10-13T04:16:38.307057",
     "exception": false,
     "start_time": "2023-10-13T04:16:38.279667",
     "status": "completed"
    },
    "tags": []
   },
   "outputs": [],
   "source": [
    "df_train = pd.concat([df_train,dummies],axis=1)\n",
    "df_test = pd.concat([df_test,dummies1],axis=1)"
   ]
  },
  {
   "cell_type": "code",
   "execution_count": 39,
   "id": "1d385043",
   "metadata": {
    "execution": {
     "iopub.execute_input": "2023-10-13T04:16:38.336705Z",
     "iopub.status.busy": "2023-10-13T04:16:38.336368Z",
     "iopub.status.idle": "2023-10-13T04:16:38.347499Z",
     "shell.execute_reply": "2023-10-13T04:16:38.346630Z"
    },
    "papermill": {
     "duration": 0.028918,
     "end_time": "2023-10-13T04:16:38.349856",
     "exception": false,
     "start_time": "2023-10-13T04:16:38.320938",
     "status": "completed"
    },
    "tags": []
   },
   "outputs": [],
   "source": [
    "dummies = pd.get_dummies(df_train['Transported'], prefix ='Transported',drop_first =True).astype(int)\n",
    "\n",
    "df_train.drop('Transported',axis=1,inplace=True)\n",
    "\n",
    "df_train = pd.concat([df_train,dummies],axis=1)\n"
   ]
  },
  {
   "cell_type": "code",
   "execution_count": 40,
   "id": "d2ec98e4",
   "metadata": {
    "execution": {
     "iopub.execute_input": "2023-10-13T04:16:38.379805Z",
     "iopub.status.busy": "2023-10-13T04:16:38.379462Z",
     "iopub.status.idle": "2023-10-13T04:16:38.387594Z",
     "shell.execute_reply": "2023-10-13T04:16:38.386635Z"
    },
    "papermill": {
     "duration": 0.025815,
     "end_time": "2023-10-13T04:16:38.389683",
     "exception": false,
     "start_time": "2023-10-13T04:16:38.363868",
     "status": "completed"
    },
    "tags": []
   },
   "outputs": [],
   "source": [
    "df_train.drop('Name',axis=1,inplace=True)\n",
    "df_test.drop('Name',axis=1,inplace=True)"
   ]
  },
  {
   "cell_type": "code",
   "execution_count": 41,
   "id": "81e48b40",
   "metadata": {
    "execution": {
     "iopub.execute_input": "2023-10-13T04:16:38.419040Z",
     "iopub.status.busy": "2023-10-13T04:16:38.418704Z",
     "iopub.status.idle": "2023-10-13T04:16:38.440442Z",
     "shell.execute_reply": "2023-10-13T04:16:38.439278Z"
    },
    "papermill": {
     "duration": 0.039954,
     "end_time": "2023-10-13T04:16:38.443395",
     "exception": false,
     "start_time": "2023-10-13T04:16:38.403441",
     "status": "completed"
    },
    "tags": []
   },
   "outputs": [
    {
     "data": {
      "text/html": [
       "<div>\n",
       "<style scoped>\n",
       "    .dataframe tbody tr th:only-of-type {\n",
       "        vertical-align: middle;\n",
       "    }\n",
       "\n",
       "    .dataframe tbody tr th {\n",
       "        vertical-align: top;\n",
       "    }\n",
       "\n",
       "    .dataframe thead th {\n",
       "        text-align: right;\n",
       "    }\n",
       "</style>\n",
       "<table border=\"1\" class=\"dataframe\">\n",
       "  <thead>\n",
       "    <tr style=\"text-align: right;\">\n",
       "      <th></th>\n",
       "      <th>CryoSleep</th>\n",
       "      <th>Age</th>\n",
       "      <th>VIP</th>\n",
       "      <th>RoomService</th>\n",
       "      <th>FoodCourt</th>\n",
       "      <th>ShoppingMall</th>\n",
       "      <th>Spa</th>\n",
       "      <th>VRDeck</th>\n",
       "      <th>Earth</th>\n",
       "      <th>Europa</th>\n",
       "      <th>Mars</th>\n",
       "      <th>Cabin_Num</th>\n",
       "      <th>A</th>\n",
       "      <th>B</th>\n",
       "      <th>C</th>\n",
       "      <th>D</th>\n",
       "      <th>E</th>\n",
       "      <th>F</th>\n",
       "      <th>G</th>\n",
       "      <th>T</th>\n",
       "      <th>S</th>\n",
       "      <th>55 Cancri e</th>\n",
       "      <th>PSO J318.5-22</th>\n",
       "      <th>TRAPPIST-1e</th>\n",
       "      <th>Transported_True</th>\n",
       "    </tr>\n",
       "    <tr>\n",
       "      <th>PassengerId</th>\n",
       "      <th></th>\n",
       "      <th></th>\n",
       "      <th></th>\n",
       "      <th></th>\n",
       "      <th></th>\n",
       "      <th></th>\n",
       "      <th></th>\n",
       "      <th></th>\n",
       "      <th></th>\n",
       "      <th></th>\n",
       "      <th></th>\n",
       "      <th></th>\n",
       "      <th></th>\n",
       "      <th></th>\n",
       "      <th></th>\n",
       "      <th></th>\n",
       "      <th></th>\n",
       "      <th></th>\n",
       "      <th></th>\n",
       "      <th></th>\n",
       "      <th></th>\n",
       "      <th></th>\n",
       "      <th></th>\n",
       "      <th></th>\n",
       "      <th></th>\n",
       "    </tr>\n",
       "  </thead>\n",
       "  <tbody>\n",
       "    <tr>\n",
       "      <th>0001_01</th>\n",
       "      <td>0</td>\n",
       "      <td>39.0</td>\n",
       "      <td>0</td>\n",
       "      <td>0.0</td>\n",
       "      <td>0.0</td>\n",
       "      <td>0.0</td>\n",
       "      <td>0.0</td>\n",
       "      <td>0.0</td>\n",
       "      <td>0</td>\n",
       "      <td>1</td>\n",
       "      <td>0</td>\n",
       "      <td>0</td>\n",
       "      <td>0</td>\n",
       "      <td>1</td>\n",
       "      <td>0</td>\n",
       "      <td>0</td>\n",
       "      <td>0</td>\n",
       "      <td>0</td>\n",
       "      <td>0</td>\n",
       "      <td>0</td>\n",
       "      <td>0</td>\n",
       "      <td>0</td>\n",
       "      <td>0</td>\n",
       "      <td>1</td>\n",
       "      <td>0</td>\n",
       "    </tr>\n",
       "    <tr>\n",
       "      <th>0002_01</th>\n",
       "      <td>0</td>\n",
       "      <td>24.0</td>\n",
       "      <td>0</td>\n",
       "      <td>109.0</td>\n",
       "      <td>9.0</td>\n",
       "      <td>25.0</td>\n",
       "      <td>549.0</td>\n",
       "      <td>44.0</td>\n",
       "      <td>1</td>\n",
       "      <td>0</td>\n",
       "      <td>0</td>\n",
       "      <td>0</td>\n",
       "      <td>0</td>\n",
       "      <td>0</td>\n",
       "      <td>0</td>\n",
       "      <td>0</td>\n",
       "      <td>0</td>\n",
       "      <td>1</td>\n",
       "      <td>0</td>\n",
       "      <td>0</td>\n",
       "      <td>1</td>\n",
       "      <td>0</td>\n",
       "      <td>0</td>\n",
       "      <td>1</td>\n",
       "      <td>1</td>\n",
       "    </tr>\n",
       "    <tr>\n",
       "      <th>0003_01</th>\n",
       "      <td>0</td>\n",
       "      <td>58.0</td>\n",
       "      <td>1</td>\n",
       "      <td>43.0</td>\n",
       "      <td>3576.0</td>\n",
       "      <td>0.0</td>\n",
       "      <td>6715.0</td>\n",
       "      <td>49.0</td>\n",
       "      <td>0</td>\n",
       "      <td>1</td>\n",
       "      <td>0</td>\n",
       "      <td>0</td>\n",
       "      <td>1</td>\n",
       "      <td>0</td>\n",
       "      <td>0</td>\n",
       "      <td>0</td>\n",
       "      <td>0</td>\n",
       "      <td>0</td>\n",
       "      <td>0</td>\n",
       "      <td>0</td>\n",
       "      <td>1</td>\n",
       "      <td>0</td>\n",
       "      <td>0</td>\n",
       "      <td>1</td>\n",
       "      <td>0</td>\n",
       "    </tr>\n",
       "    <tr>\n",
       "      <th>0003_02</th>\n",
       "      <td>0</td>\n",
       "      <td>33.0</td>\n",
       "      <td>0</td>\n",
       "      <td>0.0</td>\n",
       "      <td>1283.0</td>\n",
       "      <td>371.0</td>\n",
       "      <td>3329.0</td>\n",
       "      <td>193.0</td>\n",
       "      <td>0</td>\n",
       "      <td>1</td>\n",
       "      <td>0</td>\n",
       "      <td>0</td>\n",
       "      <td>1</td>\n",
       "      <td>0</td>\n",
       "      <td>0</td>\n",
       "      <td>0</td>\n",
       "      <td>0</td>\n",
       "      <td>0</td>\n",
       "      <td>0</td>\n",
       "      <td>0</td>\n",
       "      <td>1</td>\n",
       "      <td>0</td>\n",
       "      <td>0</td>\n",
       "      <td>1</td>\n",
       "      <td>0</td>\n",
       "    </tr>\n",
       "    <tr>\n",
       "      <th>0004_01</th>\n",
       "      <td>0</td>\n",
       "      <td>16.0</td>\n",
       "      <td>0</td>\n",
       "      <td>303.0</td>\n",
       "      <td>70.0</td>\n",
       "      <td>151.0</td>\n",
       "      <td>565.0</td>\n",
       "      <td>2.0</td>\n",
       "      <td>1</td>\n",
       "      <td>0</td>\n",
       "      <td>0</td>\n",
       "      <td>1</td>\n",
       "      <td>0</td>\n",
       "      <td>0</td>\n",
       "      <td>0</td>\n",
       "      <td>0</td>\n",
       "      <td>0</td>\n",
       "      <td>1</td>\n",
       "      <td>0</td>\n",
       "      <td>0</td>\n",
       "      <td>1</td>\n",
       "      <td>0</td>\n",
       "      <td>0</td>\n",
       "      <td>1</td>\n",
       "      <td>1</td>\n",
       "    </tr>\n",
       "  </tbody>\n",
       "</table>\n",
       "</div>"
      ],
      "text/plain": [
       "             CryoSleep   Age  VIP  RoomService  FoodCourt  ShoppingMall  \\\n",
       "PassengerId                                                               \n",
       "0001_01              0  39.0    0          0.0        0.0           0.0   \n",
       "0002_01              0  24.0    0        109.0        9.0          25.0   \n",
       "0003_01              0  58.0    1         43.0     3576.0           0.0   \n",
       "0003_02              0  33.0    0          0.0     1283.0         371.0   \n",
       "0004_01              0  16.0    0        303.0       70.0         151.0   \n",
       "\n",
       "                Spa  VRDeck  Earth  Europa  Mars  Cabin_Num  A  B  C  D  E  F  \\\n",
       "PassengerId                                                                     \n",
       "0001_01         0.0     0.0      0       1     0          0  0  1  0  0  0  0   \n",
       "0002_01       549.0    44.0      1       0     0          0  0  0  0  0  0  1   \n",
       "0003_01      6715.0    49.0      0       1     0          0  1  0  0  0  0  0   \n",
       "0003_02      3329.0   193.0      0       1     0          0  1  0  0  0  0  0   \n",
       "0004_01       565.0     2.0      1       0     0          1  0  0  0  0  0  1   \n",
       "\n",
       "             G  T  S  55 Cancri e  PSO J318.5-22  TRAPPIST-1e  \\\n",
       "PassengerId                                                     \n",
       "0001_01      0  0  0            0              0            1   \n",
       "0002_01      0  0  1            0              0            1   \n",
       "0003_01      0  0  1            0              0            1   \n",
       "0003_02      0  0  1            0              0            1   \n",
       "0004_01      0  0  1            0              0            1   \n",
       "\n",
       "             Transported_True  \n",
       "PassengerId                    \n",
       "0001_01                     0  \n",
       "0002_01                     1  \n",
       "0003_01                     0  \n",
       "0003_02                     0  \n",
       "0004_01                     1  "
      ]
     },
     "execution_count": 41,
     "metadata": {},
     "output_type": "execute_result"
    }
   ],
   "source": [
    "df_train.head()"
   ]
  },
  {
   "cell_type": "code",
   "execution_count": 42,
   "id": "3300a886",
   "metadata": {
    "execution": {
     "iopub.execute_input": "2023-10-13T04:16:38.475901Z",
     "iopub.status.busy": "2023-10-13T04:16:38.475307Z",
     "iopub.status.idle": "2023-10-13T04:16:38.723135Z",
     "shell.execute_reply": "2023-10-13T04:16:38.722255Z"
    },
    "papermill": {
     "duration": 0.267841,
     "end_time": "2023-10-13T04:16:38.725561",
     "exception": false,
     "start_time": "2023-10-13T04:16:38.457720",
     "status": "completed"
    },
    "tags": []
   },
   "outputs": [],
   "source": [
    "import pandas as pd\n",
    "from sklearn.preprocessing import MinMaxScaler\n",
    "\n",
    "# Assuming df_train is a NumPy array, convert it to a DataFrame\n",
    "df_train = pd.DataFrame(df_train)\n",
    "\n",
    "# Continue with the code for scaling\n",
    "scaler = MinMaxScaler()\n",
    "columns_to_scale = ['Age', 'RoomService', 'FoodCourt', 'ShoppingMall', 'Spa', 'VRDeck']\n",
    "\n",
    "\n",
    "df_train[columns_to_scale] = scaler.fit_transform(df_train[columns_to_scale])\n",
    "df_test[columns_to_scale] = scaler.transform(df_test[columns_to_scale])\n",
    "\n",
    "\n"
   ]
  },
  {
   "cell_type": "code",
   "execution_count": 43,
   "id": "df62eeca",
   "metadata": {
    "execution": {
     "iopub.execute_input": "2023-10-13T04:16:38.757598Z",
     "iopub.status.busy": "2023-10-13T04:16:38.756909Z",
     "iopub.status.idle": "2023-10-13T04:16:38.777694Z",
     "shell.execute_reply": "2023-10-13T04:16:38.776432Z"
    },
    "papermill": {
     "duration": 0.039373,
     "end_time": "2023-10-13T04:16:38.780064",
     "exception": false,
     "start_time": "2023-10-13T04:16:38.740691",
     "status": "completed"
    },
    "tags": []
   },
   "outputs": [
    {
     "data": {
      "text/html": [
       "<div>\n",
       "<style scoped>\n",
       "    .dataframe tbody tr th:only-of-type {\n",
       "        vertical-align: middle;\n",
       "    }\n",
       "\n",
       "    .dataframe tbody tr th {\n",
       "        vertical-align: top;\n",
       "    }\n",
       "\n",
       "    .dataframe thead th {\n",
       "        text-align: right;\n",
       "    }\n",
       "</style>\n",
       "<table border=\"1\" class=\"dataframe\">\n",
       "  <thead>\n",
       "    <tr style=\"text-align: right;\">\n",
       "      <th></th>\n",
       "      <th>CryoSleep</th>\n",
       "      <th>Age</th>\n",
       "      <th>VIP</th>\n",
       "      <th>RoomService</th>\n",
       "      <th>FoodCourt</th>\n",
       "      <th>ShoppingMall</th>\n",
       "      <th>Spa</th>\n",
       "      <th>VRDeck</th>\n",
       "      <th>Earth</th>\n",
       "      <th>Europa</th>\n",
       "      <th>Mars</th>\n",
       "      <th>Cabin_Num</th>\n",
       "      <th>A</th>\n",
       "      <th>B</th>\n",
       "      <th>C</th>\n",
       "      <th>D</th>\n",
       "      <th>E</th>\n",
       "      <th>F</th>\n",
       "      <th>G</th>\n",
       "      <th>T</th>\n",
       "      <th>S</th>\n",
       "      <th>55 Cancri e</th>\n",
       "      <th>PSO J318.5-22</th>\n",
       "      <th>TRAPPIST-1e</th>\n",
       "      <th>Transported_True</th>\n",
       "    </tr>\n",
       "    <tr>\n",
       "      <th>PassengerId</th>\n",
       "      <th></th>\n",
       "      <th></th>\n",
       "      <th></th>\n",
       "      <th></th>\n",
       "      <th></th>\n",
       "      <th></th>\n",
       "      <th></th>\n",
       "      <th></th>\n",
       "      <th></th>\n",
       "      <th></th>\n",
       "      <th></th>\n",
       "      <th></th>\n",
       "      <th></th>\n",
       "      <th></th>\n",
       "      <th></th>\n",
       "      <th></th>\n",
       "      <th></th>\n",
       "      <th></th>\n",
       "      <th></th>\n",
       "      <th></th>\n",
       "      <th></th>\n",
       "      <th></th>\n",
       "      <th></th>\n",
       "      <th></th>\n",
       "      <th></th>\n",
       "    </tr>\n",
       "  </thead>\n",
       "  <tbody>\n",
       "    <tr>\n",
       "      <th>0001_01</th>\n",
       "      <td>0</td>\n",
       "      <td>0.493671</td>\n",
       "      <td>0</td>\n",
       "      <td>0.000000</td>\n",
       "      <td>0.000000</td>\n",
       "      <td>0.000000</td>\n",
       "      <td>0.000000</td>\n",
       "      <td>0.000000</td>\n",
       "      <td>0</td>\n",
       "      <td>1</td>\n",
       "      <td>0</td>\n",
       "      <td>0</td>\n",
       "      <td>0</td>\n",
       "      <td>1</td>\n",
       "      <td>0</td>\n",
       "      <td>0</td>\n",
       "      <td>0</td>\n",
       "      <td>0</td>\n",
       "      <td>0</td>\n",
       "      <td>0</td>\n",
       "      <td>0</td>\n",
       "      <td>0</td>\n",
       "      <td>0</td>\n",
       "      <td>1</td>\n",
       "      <td>0</td>\n",
       "    </tr>\n",
       "    <tr>\n",
       "      <th>0002_01</th>\n",
       "      <td>0</td>\n",
       "      <td>0.303797</td>\n",
       "      <td>0</td>\n",
       "      <td>0.007608</td>\n",
       "      <td>0.000302</td>\n",
       "      <td>0.001064</td>\n",
       "      <td>0.024500</td>\n",
       "      <td>0.001823</td>\n",
       "      <td>1</td>\n",
       "      <td>0</td>\n",
       "      <td>0</td>\n",
       "      <td>0</td>\n",
       "      <td>0</td>\n",
       "      <td>0</td>\n",
       "      <td>0</td>\n",
       "      <td>0</td>\n",
       "      <td>0</td>\n",
       "      <td>1</td>\n",
       "      <td>0</td>\n",
       "      <td>0</td>\n",
       "      <td>1</td>\n",
       "      <td>0</td>\n",
       "      <td>0</td>\n",
       "      <td>1</td>\n",
       "      <td>1</td>\n",
       "    </tr>\n",
       "    <tr>\n",
       "      <th>0003_01</th>\n",
       "      <td>0</td>\n",
       "      <td>0.734177</td>\n",
       "      <td>1</td>\n",
       "      <td>0.003001</td>\n",
       "      <td>0.119948</td>\n",
       "      <td>0.000000</td>\n",
       "      <td>0.299670</td>\n",
       "      <td>0.002030</td>\n",
       "      <td>0</td>\n",
       "      <td>1</td>\n",
       "      <td>0</td>\n",
       "      <td>0</td>\n",
       "      <td>1</td>\n",
       "      <td>0</td>\n",
       "      <td>0</td>\n",
       "      <td>0</td>\n",
       "      <td>0</td>\n",
       "      <td>0</td>\n",
       "      <td>0</td>\n",
       "      <td>0</td>\n",
       "      <td>1</td>\n",
       "      <td>0</td>\n",
       "      <td>0</td>\n",
       "      <td>1</td>\n",
       "      <td>0</td>\n",
       "    </tr>\n",
       "    <tr>\n",
       "      <th>0003_02</th>\n",
       "      <td>0</td>\n",
       "      <td>0.417722</td>\n",
       "      <td>0</td>\n",
       "      <td>0.000000</td>\n",
       "      <td>0.043035</td>\n",
       "      <td>0.015793</td>\n",
       "      <td>0.148563</td>\n",
       "      <td>0.007997</td>\n",
       "      <td>0</td>\n",
       "      <td>1</td>\n",
       "      <td>0</td>\n",
       "      <td>0</td>\n",
       "      <td>1</td>\n",
       "      <td>0</td>\n",
       "      <td>0</td>\n",
       "      <td>0</td>\n",
       "      <td>0</td>\n",
       "      <td>0</td>\n",
       "      <td>0</td>\n",
       "      <td>0</td>\n",
       "      <td>1</td>\n",
       "      <td>0</td>\n",
       "      <td>0</td>\n",
       "      <td>1</td>\n",
       "      <td>0</td>\n",
       "    </tr>\n",
       "    <tr>\n",
       "      <th>0004_01</th>\n",
       "      <td>0</td>\n",
       "      <td>0.202532</td>\n",
       "      <td>0</td>\n",
       "      <td>0.021149</td>\n",
       "      <td>0.002348</td>\n",
       "      <td>0.006428</td>\n",
       "      <td>0.025214</td>\n",
       "      <td>0.000083</td>\n",
       "      <td>1</td>\n",
       "      <td>0</td>\n",
       "      <td>0</td>\n",
       "      <td>1</td>\n",
       "      <td>0</td>\n",
       "      <td>0</td>\n",
       "      <td>0</td>\n",
       "      <td>0</td>\n",
       "      <td>0</td>\n",
       "      <td>1</td>\n",
       "      <td>0</td>\n",
       "      <td>0</td>\n",
       "      <td>1</td>\n",
       "      <td>0</td>\n",
       "      <td>0</td>\n",
       "      <td>1</td>\n",
       "      <td>1</td>\n",
       "    </tr>\n",
       "  </tbody>\n",
       "</table>\n",
       "</div>"
      ],
      "text/plain": [
       "             CryoSleep       Age  VIP  RoomService  FoodCourt  ShoppingMall  \\\n",
       "PassengerId                                                                   \n",
       "0001_01              0  0.493671    0     0.000000   0.000000      0.000000   \n",
       "0002_01              0  0.303797    0     0.007608   0.000302      0.001064   \n",
       "0003_01              0  0.734177    1     0.003001   0.119948      0.000000   \n",
       "0003_02              0  0.417722    0     0.000000   0.043035      0.015793   \n",
       "0004_01              0  0.202532    0     0.021149   0.002348      0.006428   \n",
       "\n",
       "                  Spa    VRDeck  Earth  Europa  Mars  Cabin_Num  A  B  C  D  \\\n",
       "PassengerId                                                                   \n",
       "0001_01      0.000000  0.000000      0       1     0          0  0  1  0  0   \n",
       "0002_01      0.024500  0.001823      1       0     0          0  0  0  0  0   \n",
       "0003_01      0.299670  0.002030      0       1     0          0  1  0  0  0   \n",
       "0003_02      0.148563  0.007997      0       1     0          0  1  0  0  0   \n",
       "0004_01      0.025214  0.000083      1       0     0          1  0  0  0  0   \n",
       "\n",
       "             E  F  G  T  S  55 Cancri e  PSO J318.5-22  TRAPPIST-1e  \\\n",
       "PassengerId                                                           \n",
       "0001_01      0  0  0  0  0            0              0            1   \n",
       "0002_01      0  1  0  0  1            0              0            1   \n",
       "0003_01      0  0  0  0  1            0              0            1   \n",
       "0003_02      0  0  0  0  1            0              0            1   \n",
       "0004_01      0  1  0  0  1            0              0            1   \n",
       "\n",
       "             Transported_True  \n",
       "PassengerId                    \n",
       "0001_01                     0  \n",
       "0002_01                     1  \n",
       "0003_01                     0  \n",
       "0003_02                     0  \n",
       "0004_01                     1  "
      ]
     },
     "execution_count": 43,
     "metadata": {},
     "output_type": "execute_result"
    }
   ],
   "source": [
    "df_train.head()"
   ]
  },
  {
   "cell_type": "code",
   "execution_count": 44,
   "id": "9fd04302",
   "metadata": {
    "execution": {
     "iopub.execute_input": "2023-10-13T04:16:38.813090Z",
     "iopub.status.busy": "2023-10-13T04:16:38.812054Z",
     "iopub.status.idle": "2023-10-13T04:16:38.826289Z",
     "shell.execute_reply": "2023-10-13T04:16:38.825084Z"
    },
    "papermill": {
     "duration": 0.0332,
     "end_time": "2023-10-13T04:16:38.828624",
     "exception": false,
     "start_time": "2023-10-13T04:16:38.795424",
     "status": "completed"
    },
    "tags": []
   },
   "outputs": [
    {
     "name": "stdout",
     "output_type": "stream",
     "text": [
      "<class 'pandas.core.frame.DataFrame'>\n",
      "Index: 8693 entries, 0001_01 to 9280_02\n",
      "Data columns (total 25 columns):\n",
      " #   Column            Non-Null Count  Dtype  \n",
      "---  ------            --------------  -----  \n",
      " 0   CryoSleep         8693 non-null   int64  \n",
      " 1   Age               8693 non-null   float64\n",
      " 2   VIP               8693 non-null   int64  \n",
      " 3   RoomService       8693 non-null   float64\n",
      " 4   FoodCourt         8693 non-null   float64\n",
      " 5   ShoppingMall      8693 non-null   float64\n",
      " 6   Spa               8693 non-null   float64\n",
      " 7   VRDeck            8693 non-null   float64\n",
      " 8   Earth             8693 non-null   int64  \n",
      " 9   Europa            8693 non-null   int64  \n",
      " 10  Mars              8693 non-null   int64  \n",
      " 11  Cabin_Num         8693 non-null   int64  \n",
      " 12  A                 8693 non-null   int64  \n",
      " 13  B                 8693 non-null   int64  \n",
      " 14  C                 8693 non-null   int64  \n",
      " 15  D                 8693 non-null   int64  \n",
      " 16  E                 8693 non-null   int64  \n",
      " 17  F                 8693 non-null   int64  \n",
      " 18  G                 8693 non-null   int64  \n",
      " 19  T                 8693 non-null   int64  \n",
      " 20  S                 8693 non-null   int64  \n",
      " 21  55 Cancri e       8693 non-null   int64  \n",
      " 22  PSO J318.5-22     8693 non-null   int64  \n",
      " 23  TRAPPIST-1e       8693 non-null   int64  \n",
      " 24  Transported_True  8693 non-null   int64  \n",
      "dtypes: float64(6), int64(19)\n",
      "memory usage: 2.0+ MB\n"
     ]
    }
   ],
   "source": [
    "df_train.info()"
   ]
  },
  {
   "cell_type": "code",
   "execution_count": 45,
   "id": "3c67bb4a",
   "metadata": {
    "execution": {
     "iopub.execute_input": "2023-10-13T04:16:38.861439Z",
     "iopub.status.busy": "2023-10-13T04:16:38.860800Z",
     "iopub.status.idle": "2023-10-13T04:16:38.872260Z",
     "shell.execute_reply": "2023-10-13T04:16:38.870754Z"
    },
    "papermill": {
     "duration": 0.030083,
     "end_time": "2023-10-13T04:16:38.874614",
     "exception": false,
     "start_time": "2023-10-13T04:16:38.844531",
     "status": "completed"
    },
    "tags": []
   },
   "outputs": [
    {
     "data": {
      "text/plain": [
       "CryoSleep           0\n",
       "Age                 0\n",
       "VIP                 0\n",
       "RoomService         0\n",
       "FoodCourt           0\n",
       "ShoppingMall        0\n",
       "Spa                 0\n",
       "VRDeck              0\n",
       "Earth               0\n",
       "Europa              0\n",
       "Mars                0\n",
       "Cabin_Num           0\n",
       "A                   0\n",
       "B                   0\n",
       "C                   0\n",
       "D                   0\n",
       "E                   0\n",
       "F                   0\n",
       "G                   0\n",
       "T                   0\n",
       "S                   0\n",
       "55 Cancri e         0\n",
       "PSO J318.5-22       0\n",
       "TRAPPIST-1e         0\n",
       "Transported_True    0\n",
       "dtype: int64"
      ]
     },
     "execution_count": 45,
     "metadata": {},
     "output_type": "execute_result"
    }
   ],
   "source": [
    "df_train.isnull().sum()"
   ]
  },
  {
   "cell_type": "code",
   "execution_count": 46,
   "id": "4cdd92ce",
   "metadata": {
    "execution": {
     "iopub.execute_input": "2023-10-13T04:16:38.909102Z",
     "iopub.status.busy": "2023-10-13T04:16:38.908067Z",
     "iopub.status.idle": "2023-10-13T04:16:38.916510Z",
     "shell.execute_reply": "2023-10-13T04:16:38.915380Z"
    },
    "papermill": {
     "duration": 0.028386,
     "end_time": "2023-10-13T04:16:38.918681",
     "exception": false,
     "start_time": "2023-10-13T04:16:38.890295",
     "status": "completed"
    },
    "tags": []
   },
   "outputs": [],
   "source": [
    "X_train = df_train.drop('Transported_True',axis =1)\n",
    "y_train = df_train['Transported_True']\n",
    "X_test = df_test"
   ]
  },
  {
   "cell_type": "code",
   "execution_count": 47,
   "id": "c2dbeaa4",
   "metadata": {
    "execution": {
     "iopub.execute_input": "2023-10-13T04:16:38.950671Z",
     "iopub.status.busy": "2023-10-13T04:16:38.950321Z",
     "iopub.status.idle": "2023-10-13T04:16:40.121437Z",
     "shell.execute_reply": "2023-10-13T04:16:40.120238Z"
    },
    "papermill": {
     "duration": 1.189888,
     "end_time": "2023-10-13T04:16:40.124047",
     "exception": false,
     "start_time": "2023-10-13T04:16:38.934159",
     "status": "completed"
    },
    "tags": []
   },
   "outputs": [],
   "source": [
    "from sklearn.model_selection import cross_val_score\n",
    "from sklearn.linear_model import LogisticRegression\n",
    "from sklearn.ensemble import RandomForestClassifier\n",
    "from catboost import CatBoostClassifier\n",
    "from xgboost import XGBClassifier"
   ]
  },
  {
   "cell_type": "code",
   "execution_count": 48,
   "id": "5ee8fbbd",
   "metadata": {
    "execution": {
     "iopub.execute_input": "2023-10-13T04:16:40.156479Z",
     "iopub.status.busy": "2023-10-13T04:16:40.156054Z",
     "iopub.status.idle": "2023-10-13T04:16:40.188746Z",
     "shell.execute_reply": "2023-10-13T04:16:40.187773Z"
    },
    "papermill": {
     "duration": 0.051908,
     "end_time": "2023-10-13T04:16:40.191195",
     "exception": false,
     "start_time": "2023-10-13T04:16:40.139287",
     "status": "completed"
    },
    "tags": []
   },
   "outputs": [],
   "source": [
    "#Logistic Regression\n",
    "lr = LogisticRegression(penalty = 'l1', C = 100, solver= 'liblinear', max_iter=10000)\n",
    "lr = lr.fit(X_train,y_train)"
   ]
  },
  {
   "cell_type": "code",
   "execution_count": 49,
   "id": "f31432f6",
   "metadata": {
    "execution": {
     "iopub.execute_input": "2023-10-13T04:16:40.224016Z",
     "iopub.status.busy": "2023-10-13T04:16:40.223638Z",
     "iopub.status.idle": "2023-10-13T04:16:41.747495Z",
     "shell.execute_reply": "2023-10-13T04:16:41.746391Z"
    },
    "papermill": {
     "duration": 1.543312,
     "end_time": "2023-10-13T04:16:41.749913",
     "exception": false,
     "start_time": "2023-10-13T04:16:40.206601",
     "status": "completed"
    },
    "tags": []
   },
   "outputs": [],
   "source": [
    "#Random Forest\n",
    "rf = RandomForestClassifier(criterion='gini', max_depth=10, max_features='sqrt', min_samples_leaf= 2, min_samples_split= 10, n_estimators=200)\n",
    "rf = rf.fit(X_train, y_train)\n"
   ]
  },
  {
   "cell_type": "code",
   "execution_count": 50,
   "id": "30abb9fc",
   "metadata": {
    "execution": {
     "iopub.execute_input": "2023-10-13T04:16:41.782958Z",
     "iopub.status.busy": "2023-10-13T04:16:41.782605Z",
     "iopub.status.idle": "2023-10-13T04:16:42.672844Z",
     "shell.execute_reply": "2023-10-13T04:16:42.671947Z"
    },
    "papermill": {
     "duration": 0.910909,
     "end_time": "2023-10-13T04:16:42.675603",
     "exception": false,
     "start_time": "2023-10-13T04:16:41.764694",
     "status": "completed"
    },
    "tags": []
   },
   "outputs": [],
   "source": [
    "#XGBoost\n",
    "xgb = XGBClassifier(subsample= 0.9, sampling_method='uniform', reg_lambda= 1, reg_alpha= 0, n_estimators= 200, min_child_weight= 10, max_depth= 5, learning_rate=0.1, gamma=0.1, colsample_bytree=0.5)\n",
    "xgb = xgb.fit(X_train, y_train)"
   ]
  },
  {
   "cell_type": "code",
   "execution_count": 51,
   "id": "dd361e86",
   "metadata": {
    "collapsed": true,
    "execution": {
     "iopub.execute_input": "2023-10-13T04:16:42.712544Z",
     "iopub.status.busy": "2023-10-13T04:16:42.712066Z",
     "iopub.status.idle": "2023-10-13T04:16:43.143644Z",
     "shell.execute_reply": "2023-10-13T04:16:43.142703Z"
    },
    "jupyter": {
     "outputs_hidden": true
    },
    "papermill": {
     "duration": 0.452839,
     "end_time": "2023-10-13T04:16:43.146483",
     "exception": false,
     "start_time": "2023-10-13T04:16:42.693644",
     "status": "completed"
    },
    "tags": []
   },
   "outputs": [
    {
     "name": "stdout",
     "output_type": "stream",
     "text": [
      "0:\tlearn: 0.6527404\ttotal: 58.3ms\tremaining: 2.86s\n",
      "1:\tlearn: 0.6136303\ttotal: 62ms\tremaining: 1.49s\n",
      "2:\tlearn: 0.5853855\ttotal: 65.4ms\tremaining: 1.02s\n",
      "3:\tlearn: 0.5573146\ttotal: 68.4ms\tremaining: 787ms\n",
      "4:\tlearn: 0.5406554\ttotal: 71.5ms\tremaining: 643ms\n",
      "5:\tlearn: 0.5251958\ttotal: 74.8ms\tremaining: 549ms\n",
      "6:\tlearn: 0.5104689\ttotal: 78.2ms\tremaining: 480ms\n",
      "7:\tlearn: 0.4951286\ttotal: 81.3ms\tremaining: 427ms\n",
      "8:\tlearn: 0.4869681\ttotal: 84.7ms\tremaining: 386ms\n",
      "9:\tlearn: 0.4774469\ttotal: 87.9ms\tremaining: 352ms\n",
      "10:\tlearn: 0.4686700\ttotal: 91.2ms\tremaining: 323ms\n",
      "11:\tlearn: 0.4619166\ttotal: 94.8ms\tremaining: 300ms\n",
      "12:\tlearn: 0.4567304\ttotal: 98.6ms\tremaining: 281ms\n",
      "13:\tlearn: 0.4524165\ttotal: 102ms\tremaining: 264ms\n",
      "14:\tlearn: 0.4458084\ttotal: 107ms\tremaining: 249ms\n",
      "15:\tlearn: 0.4414431\ttotal: 111ms\tremaining: 237ms\n",
      "16:\tlearn: 0.4370196\ttotal: 116ms\tremaining: 224ms\n",
      "17:\tlearn: 0.4330837\ttotal: 119ms\tremaining: 212ms\n",
      "18:\tlearn: 0.4301463\ttotal: 123ms\tremaining: 200ms\n",
      "19:\tlearn: 0.4271308\ttotal: 126ms\tremaining: 189ms\n",
      "20:\tlearn: 0.4251439\ttotal: 129ms\tremaining: 178ms\n",
      "21:\tlearn: 0.4227666\ttotal: 132ms\tremaining: 168ms\n",
      "22:\tlearn: 0.4205762\ttotal: 135ms\tremaining: 159ms\n",
      "23:\tlearn: 0.4181355\ttotal: 139ms\tremaining: 150ms\n",
      "24:\tlearn: 0.4163513\ttotal: 142ms\tremaining: 142ms\n",
      "25:\tlearn: 0.4135976\ttotal: 145ms\tremaining: 134ms\n",
      "26:\tlearn: 0.4116805\ttotal: 148ms\tremaining: 126ms\n",
      "27:\tlearn: 0.4093144\ttotal: 151ms\tremaining: 119ms\n",
      "28:\tlearn: 0.4073882\ttotal: 154ms\tremaining: 112ms\n",
      "29:\tlearn: 0.4060669\ttotal: 157ms\tremaining: 105ms\n",
      "30:\tlearn: 0.4044315\ttotal: 161ms\tremaining: 98.9ms\n",
      "31:\tlearn: 0.4033120\ttotal: 165ms\tremaining: 92.9ms\n",
      "32:\tlearn: 0.4019104\ttotal: 169ms\tremaining: 87ms\n",
      "33:\tlearn: 0.4004453\ttotal: 172ms\tremaining: 80.9ms\n",
      "34:\tlearn: 0.3990837\ttotal: 175ms\tremaining: 75ms\n",
      "35:\tlearn: 0.3976799\ttotal: 178ms\tremaining: 69.4ms\n",
      "36:\tlearn: 0.3966432\ttotal: 182ms\tremaining: 63.8ms\n",
      "37:\tlearn: 0.3957150\ttotal: 185ms\tremaining: 58.4ms\n",
      "38:\tlearn: 0.3940835\ttotal: 188ms\tremaining: 53.1ms\n",
      "39:\tlearn: 0.3928267\ttotal: 191ms\tremaining: 47.8ms\n",
      "40:\tlearn: 0.3915568\ttotal: 194ms\tremaining: 42.6ms\n",
      "41:\tlearn: 0.3904778\ttotal: 197ms\tremaining: 37.6ms\n",
      "42:\tlearn: 0.3896751\ttotal: 201ms\tremaining: 32.7ms\n",
      "43:\tlearn: 0.3885352\ttotal: 205ms\tremaining: 27.9ms\n",
      "44:\tlearn: 0.3875424\ttotal: 208ms\tremaining: 23.2ms\n",
      "45:\tlearn: 0.3867361\ttotal: 212ms\tremaining: 18.5ms\n",
      "46:\tlearn: 0.3854348\ttotal: 216ms\tremaining: 13.8ms\n",
      "47:\tlearn: 0.3848706\ttotal: 220ms\tremaining: 9.16ms\n",
      "48:\tlearn: 0.3840918\ttotal: 224ms\tremaining: 4.56ms\n",
      "49:\tlearn: 0.3833342\ttotal: 228ms\tremaining: 0us\n"
     ]
    }
   ],
   "source": [
    "#Cat Boost\n",
    "cb = CatBoostClassifier(subsample= 0.8, learning_rate= 0.1, l2_leaf_reg = 3, iterations= 50, depth = 6, border_count = 32)\n",
    "\n",
    "cb = cb.fit(X_train, y_train)"
   ]
  },
  {
   "cell_type": "code",
   "execution_count": 52,
   "id": "3eeae0ff",
   "metadata": {
    "collapsed": true,
    "execution": {
     "iopub.execute_input": "2023-10-13T04:16:43.181369Z",
     "iopub.status.busy": "2023-10-13T04:16:43.180928Z",
     "iopub.status.idle": "2023-10-13T04:16:46.034402Z",
     "shell.execute_reply": "2023-10-13T04:16:46.033241Z"
    },
    "jupyter": {
     "outputs_hidden": true
    },
    "papermill": {
     "duration": 2.873231,
     "end_time": "2023-10-13T04:16:46.036991",
     "exception": false,
     "start_time": "2023-10-13T04:16:43.163760",
     "status": "completed"
    },
    "tags": []
   },
   "outputs": [
    {
     "name": "stdout",
     "output_type": "stream",
     "text": [
      "0:\tlearn: 0.6527404\ttotal: 5.35ms\tremaining: 262ms\n",
      "1:\tlearn: 0.6136303\ttotal: 9.52ms\tremaining: 228ms\n",
      "2:\tlearn: 0.5853855\ttotal: 13.4ms\tremaining: 210ms\n",
      "3:\tlearn: 0.5573146\ttotal: 17.3ms\tremaining: 199ms\n",
      "4:\tlearn: 0.5406554\ttotal: 21.2ms\tremaining: 191ms\n",
      "5:\tlearn: 0.5251958\ttotal: 25.1ms\tremaining: 184ms\n",
      "6:\tlearn: 0.5104689\ttotal: 29.1ms\tremaining: 179ms\n",
      "7:\tlearn: 0.4951286\ttotal: 32.8ms\tremaining: 172ms\n",
      "8:\tlearn: 0.4869681\ttotal: 36.6ms\tremaining: 167ms\n",
      "9:\tlearn: 0.4774469\ttotal: 40.6ms\tremaining: 162ms\n",
      "10:\tlearn: 0.4686700\ttotal: 44.3ms\tremaining: 157ms\n",
      "11:\tlearn: 0.4619166\ttotal: 47.6ms\tremaining: 151ms\n",
      "12:\tlearn: 0.4567304\ttotal: 50.5ms\tremaining: 144ms\n",
      "13:\tlearn: 0.4524165\ttotal: 53.6ms\tremaining: 138ms\n",
      "14:\tlearn: 0.4458084\ttotal: 56.9ms\tremaining: 133ms\n",
      "15:\tlearn: 0.4414431\ttotal: 60ms\tremaining: 128ms\n",
      "16:\tlearn: 0.4370196\ttotal: 63.6ms\tremaining: 124ms\n",
      "17:\tlearn: 0.4330837\ttotal: 66.8ms\tremaining: 119ms\n",
      "18:\tlearn: 0.4301463\ttotal: 69.9ms\tremaining: 114ms\n",
      "19:\tlearn: 0.4271308\ttotal: 73ms\tremaining: 110ms\n",
      "20:\tlearn: 0.4251439\ttotal: 76.8ms\tremaining: 106ms\n",
      "21:\tlearn: 0.4227666\ttotal: 80.6ms\tremaining: 103ms\n",
      "22:\tlearn: 0.4205762\ttotal: 84.4ms\tremaining: 99.1ms\n",
      "23:\tlearn: 0.4181355\ttotal: 88.5ms\tremaining: 95.9ms\n",
      "24:\tlearn: 0.4163513\ttotal: 92.4ms\tremaining: 92.4ms\n",
      "25:\tlearn: 0.4135976\ttotal: 96.6ms\tremaining: 89.1ms\n",
      "26:\tlearn: 0.4116805\ttotal: 101ms\tremaining: 85.8ms\n",
      "27:\tlearn: 0.4093144\ttotal: 105ms\tremaining: 82.3ms\n",
      "28:\tlearn: 0.4073882\ttotal: 109ms\tremaining: 78.9ms\n",
      "29:\tlearn: 0.4060669\ttotal: 113ms\tremaining: 75.4ms\n",
      "30:\tlearn: 0.4044315\ttotal: 118ms\tremaining: 72.3ms\n",
      "31:\tlearn: 0.4033120\ttotal: 122ms\tremaining: 68.6ms\n",
      "32:\tlearn: 0.4019104\ttotal: 126ms\tremaining: 64.9ms\n",
      "33:\tlearn: 0.4004453\ttotal: 130ms\tremaining: 61.2ms\n",
      "34:\tlearn: 0.3990837\ttotal: 134ms\tremaining: 57.5ms\n",
      "35:\tlearn: 0.3976799\ttotal: 138ms\tremaining: 53.7ms\n",
      "36:\tlearn: 0.3966432\ttotal: 142ms\tremaining: 50.1ms\n",
      "37:\tlearn: 0.3957150\ttotal: 146ms\tremaining: 46.2ms\n",
      "38:\tlearn: 0.3940835\ttotal: 150ms\tremaining: 42.4ms\n",
      "39:\tlearn: 0.3928267\ttotal: 154ms\tremaining: 38.6ms\n",
      "40:\tlearn: 0.3915568\ttotal: 159ms\tremaining: 34.8ms\n",
      "41:\tlearn: 0.3904778\ttotal: 163ms\tremaining: 31ms\n",
      "42:\tlearn: 0.3896751\ttotal: 166ms\tremaining: 27.1ms\n",
      "43:\tlearn: 0.3885352\ttotal: 170ms\tremaining: 23.2ms\n",
      "44:\tlearn: 0.3875424\ttotal: 174ms\tremaining: 19.4ms\n",
      "45:\tlearn: 0.3867361\ttotal: 178ms\tremaining: 15.5ms\n",
      "46:\tlearn: 0.3854348\ttotal: 182ms\tremaining: 11.6ms\n",
      "47:\tlearn: 0.3848706\ttotal: 186ms\tremaining: 7.77ms\n",
      "48:\tlearn: 0.3840918\ttotal: 190ms\tremaining: 3.89ms\n",
      "49:\tlearn: 0.3833342\ttotal: 194ms\tremaining: 0us\n"
     ]
    }
   ],
   "source": [
    "from sklearn.ensemble import VotingClassifier\n",
    "voting_clf = VotingClassifier(estimators = [('lr',lr),('rf',rf),('xgb',xgb),('cb',cb)], voting = 'soft', weights = [1, 1, 2, 3]) \n",
    "\n",
    "voting_clf.fit(X_train,y_train)\n",
    "pred = voting_clf.predict(X_test).astype(int)\n",
    "\n",
    "first_submission = {'PassengerId': df_test.index, 'Transported': pred}\n",
    "first_submission = pd.DataFrame(data=first_submission)\n",
    "first_submission['Transported'] = first_submission['Transported'].map({1: True, 0: False})\n",
    "first_submission.to_csv('submission.csv', index=False)"
   ]
  },
  {
   "cell_type": "code",
   "execution_count": null,
   "id": "b1cb5a33",
   "metadata": {
    "papermill": {
     "duration": 0.014402,
     "end_time": "2023-10-13T04:16:46.066244",
     "exception": false,
     "start_time": "2023-10-13T04:16:46.051842",
     "status": "completed"
    },
    "tags": []
   },
   "outputs": [],
   "source": []
  }
 ],
 "metadata": {
  "kernelspec": {
   "display_name": "Python 3",
   "language": "python",
   "name": "python3"
  },
  "language_info": {
   "codemirror_mode": {
    "name": "ipython",
    "version": 3
   },
   "file_extension": ".py",
   "mimetype": "text/x-python",
   "name": "python",
   "nbconvert_exporter": "python",
   "pygments_lexer": "ipython3",
   "version": "3.10.12"
  },
  "papermill": {
   "default_parameters": {},
   "duration": 21.333216,
   "end_time": "2023-10-13T04:16:46.804375",
   "environment_variables": {},
   "exception": null,
   "input_path": "__notebook__.ipynb",
   "output_path": "__notebook__.ipynb",
   "parameters": {},
   "start_time": "2023-10-13T04:16:25.471159",
   "version": "2.4.0"
  }
 },
 "nbformat": 4,
 "nbformat_minor": 5
}
